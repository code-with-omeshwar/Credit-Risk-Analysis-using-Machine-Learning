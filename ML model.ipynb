{
 "cells": [
  {
   "cell_type": "code",
   "execution_count": 1,
   "id": "156efbaa",
   "metadata": {},
   "outputs": [],
   "source": [
    "import numpy as np\n",
    "import pandas as pd\n",
    "import matplotlib.pyplot as plt"
   ]
  },
  {
   "cell_type": "code",
   "execution_count": 2,
   "id": "548f23f9",
   "metadata": {},
   "outputs": [],
   "source": [
    "import seaborn as sn"
   ]
  },
  {
   "cell_type": "code",
   "execution_count": 3,
   "id": "a430285a",
   "metadata": {},
   "outputs": [],
   "source": [
    "import warnings\n",
    "warnings.filterwarnings('ignore')"
   ]
  },
  {
   "cell_type": "code",
   "execution_count": 4,
   "id": "1a432b6a",
   "metadata": {},
   "outputs": [],
   "source": [
    "load_data_inputs_train=pd.read_csv('loan_data_inputs_train.csv',index_col=0)\n",
    "load_data_targets_train=pd.read_csv('loan_data_targets_train.csv',index_col=0,header=None)\n",
    "load_data_inputs_test=pd.read_csv('loan_data_inputs_test.csv',index_col=0)\n",
    "load_data_targets_test=pd.read_csv('loan_data_targets_test.csv',index_col=0,header=None)"
   ]
  },
  {
   "cell_type": "code",
   "execution_count": 5,
   "id": "2cca08fd",
   "metadata": {},
   "outputs": [
    {
     "data": {
      "text/html": [
       "<div>\n",
       "<style scoped>\n",
       "    .dataframe tbody tr th:only-of-type {\n",
       "        vertical-align: middle;\n",
       "    }\n",
       "\n",
       "    .dataframe tbody tr th {\n",
       "        vertical-align: top;\n",
       "    }\n",
       "\n",
       "    .dataframe thead th {\n",
       "        text-align: right;\n",
       "    }\n",
       "</style>\n",
       "<table border=\"1\" class=\"dataframe\">\n",
       "  <thead>\n",
       "    <tr style=\"text-align: right;\">\n",
       "      <th></th>\n",
       "      <th>Unnamed: 0.1</th>\n",
       "      <th>id</th>\n",
       "      <th>member_id</th>\n",
       "      <th>loan_amnt</th>\n",
       "      <th>funded_amnt</th>\n",
       "      <th>funded_amnt_inv</th>\n",
       "      <th>term</th>\n",
       "      <th>int_rate</th>\n",
       "      <th>installment</th>\n",
       "      <th>grade</th>\n",
       "      <th>...</th>\n",
       "      <th>dti:20-25</th>\n",
       "      <th>dti:25-30</th>\n",
       "      <th>dti:30-35</th>\n",
       "      <th>dti:35-40</th>\n",
       "      <th>dti:&gt;40</th>\n",
       "      <th>mths_since_last_record:Missing</th>\n",
       "      <th>mths_since_last_record:0-90</th>\n",
       "      <th>mths_since_last_record:90-120</th>\n",
       "      <th>mths_since_last_record:120-127</th>\n",
       "      <th>mths_since_last_record:&gt;=127</th>\n",
       "    </tr>\n",
       "  </thead>\n",
       "  <tbody>\n",
       "    <tr>\n",
       "      <th>427211</th>\n",
       "      <td>427211</td>\n",
       "      <td>12796369</td>\n",
       "      <td>14818505</td>\n",
       "      <td>24000</td>\n",
       "      <td>24000</td>\n",
       "      <td>24000.0</td>\n",
       "      <td>36 months</td>\n",
       "      <td>8.90</td>\n",
       "      <td>762.08</td>\n",
       "      <td>A</td>\n",
       "      <td>...</td>\n",
       "      <td>1</td>\n",
       "      <td>0</td>\n",
       "      <td>0</td>\n",
       "      <td>0</td>\n",
       "      <td>0</td>\n",
       "      <td>1</td>\n",
       "      <td>0</td>\n",
       "      <td>0</td>\n",
       "      <td>0</td>\n",
       "      <td>0</td>\n",
       "    </tr>\n",
       "    <tr>\n",
       "      <th>206088</th>\n",
       "      <td>206088</td>\n",
       "      <td>1439740</td>\n",
       "      <td>1691948</td>\n",
       "      <td>10000</td>\n",
       "      <td>10000</td>\n",
       "      <td>10000.0</td>\n",
       "      <td>36 months</td>\n",
       "      <td>14.33</td>\n",
       "      <td>343.39</td>\n",
       "      <td>C</td>\n",
       "      <td>...</td>\n",
       "      <td>0</td>\n",
       "      <td>0</td>\n",
       "      <td>0</td>\n",
       "      <td>0</td>\n",
       "      <td>0</td>\n",
       "      <td>1</td>\n",
       "      <td>0</td>\n",
       "      <td>0</td>\n",
       "      <td>0</td>\n",
       "      <td>0</td>\n",
       "    </tr>\n",
       "    <tr>\n",
       "      <th>136020</th>\n",
       "      <td>136020</td>\n",
       "      <td>5214749</td>\n",
       "      <td>6556909</td>\n",
       "      <td>20425</td>\n",
       "      <td>20425</td>\n",
       "      <td>20425.0</td>\n",
       "      <td>36 months</td>\n",
       "      <td>8.90</td>\n",
       "      <td>648.56</td>\n",
       "      <td>A</td>\n",
       "      <td>...</td>\n",
       "      <td>0</td>\n",
       "      <td>0</td>\n",
       "      <td>0</td>\n",
       "      <td>0</td>\n",
       "      <td>0</td>\n",
       "      <td>1</td>\n",
       "      <td>0</td>\n",
       "      <td>0</td>\n",
       "      <td>0</td>\n",
       "      <td>0</td>\n",
       "    </tr>\n",
       "    <tr>\n",
       "      <th>412305</th>\n",
       "      <td>412305</td>\n",
       "      <td>13827698</td>\n",
       "      <td>15890016</td>\n",
       "      <td>17200</td>\n",
       "      <td>17200</td>\n",
       "      <td>17200.0</td>\n",
       "      <td>36 months</td>\n",
       "      <td>16.59</td>\n",
       "      <td>609.73</td>\n",
       "      <td>D</td>\n",
       "      <td>...</td>\n",
       "      <td>0</td>\n",
       "      <td>0</td>\n",
       "      <td>0</td>\n",
       "      <td>0</td>\n",
       "      <td>0</td>\n",
       "      <td>1</td>\n",
       "      <td>0</td>\n",
       "      <td>0</td>\n",
       "      <td>0</td>\n",
       "      <td>0</td>\n",
       "    </tr>\n",
       "    <tr>\n",
       "      <th>36159</th>\n",
       "      <td>36159</td>\n",
       "      <td>422455</td>\n",
       "      <td>496525</td>\n",
       "      <td>8400</td>\n",
       "      <td>8400</td>\n",
       "      <td>7450.0</td>\n",
       "      <td>36 months</td>\n",
       "      <td>12.84</td>\n",
       "      <td>282.40</td>\n",
       "      <td>C</td>\n",
       "      <td>...</td>\n",
       "      <td>1</td>\n",
       "      <td>0</td>\n",
       "      <td>0</td>\n",
       "      <td>0</td>\n",
       "      <td>0</td>\n",
       "      <td>1</td>\n",
       "      <td>0</td>\n",
       "      <td>0</td>\n",
       "      <td>0</td>\n",
       "      <td>0</td>\n",
       "    </tr>\n",
       "  </tbody>\n",
       "</table>\n",
       "<p>5 rows × 339 columns</p>\n",
       "</div>"
      ],
      "text/plain": [
       "        Unnamed: 0.1        id  member_id  loan_amnt  funded_amnt  \\\n",
       "427211        427211  12796369   14818505      24000        24000   \n",
       "206088        206088   1439740    1691948      10000        10000   \n",
       "136020        136020   5214749    6556909      20425        20425   \n",
       "412305        412305  13827698   15890016      17200        17200   \n",
       "36159          36159    422455     496525       8400         8400   \n",
       "\n",
       "        funded_amnt_inv        term  int_rate  installment grade  ...  \\\n",
       "427211          24000.0   36 months      8.90       762.08     A  ...   \n",
       "206088          10000.0   36 months     14.33       343.39     C  ...   \n",
       "136020          20425.0   36 months      8.90       648.56     A  ...   \n",
       "412305          17200.0   36 months     16.59       609.73     D  ...   \n",
       "36159            7450.0   36 months     12.84       282.40     C  ...   \n",
       "\n",
       "       dti:20-25 dti:25-30 dti:30-35 dti:35-40  dti:>40  \\\n",
       "427211         1         0         0         0        0   \n",
       "206088         0         0         0         0        0   \n",
       "136020         0         0         0         0        0   \n",
       "412305         0         0         0         0        0   \n",
       "36159          1         0         0         0        0   \n",
       "\n",
       "       mths_since_last_record:Missing mths_since_last_record:0-90  \\\n",
       "427211                              1                           0   \n",
       "206088                              1                           0   \n",
       "136020                              1                           0   \n",
       "412305                              1                           0   \n",
       "36159                               1                           0   \n",
       "\n",
       "       mths_since_last_record:90-120 mths_since_last_record:120-127  \\\n",
       "427211                             0                              0   \n",
       "206088                             0                              0   \n",
       "136020                             0                              0   \n",
       "412305                             0                              0   \n",
       "36159                              0                              0   \n",
       "\n",
       "       mths_since_last_record:>=127  \n",
       "427211                            0  \n",
       "206088                            0  \n",
       "136020                            0  \n",
       "412305                            0  \n",
       "36159                             0  \n",
       "\n",
       "[5 rows x 339 columns]"
      ]
     },
     "execution_count": 5,
     "metadata": {},
     "output_type": "execute_result"
    }
   ],
   "source": [
    "load_data_inputs_train.head()"
   ]
  },
  {
   "cell_type": "code",
   "execution_count": 6,
   "id": "c9c52bb7",
   "metadata": {},
   "outputs": [
    {
     "data": {
      "text/html": [
       "<div>\n",
       "<style scoped>\n",
       "    .dataframe tbody tr th:only-of-type {\n",
       "        vertical-align: middle;\n",
       "    }\n",
       "\n",
       "    .dataframe tbody tr th {\n",
       "        vertical-align: top;\n",
       "    }\n",
       "\n",
       "    .dataframe thead th {\n",
       "        text-align: right;\n",
       "    }\n",
       "</style>\n",
       "<table border=\"1\" class=\"dataframe\">\n",
       "  <thead>\n",
       "    <tr style=\"text-align: right;\">\n",
       "      <th></th>\n",
       "      <th>1</th>\n",
       "    </tr>\n",
       "    <tr>\n",
       "      <th>0</th>\n",
       "      <th></th>\n",
       "    </tr>\n",
       "  </thead>\n",
       "  <tbody>\n",
       "    <tr>\n",
       "      <th>NaN</th>\n",
       "      <td>good_bad</td>\n",
       "    </tr>\n",
       "    <tr>\n",
       "      <th>427211.0</th>\n",
       "      <td>1</td>\n",
       "    </tr>\n",
       "    <tr>\n",
       "      <th>206088.0</th>\n",
       "      <td>1</td>\n",
       "    </tr>\n",
       "    <tr>\n",
       "      <th>136020.0</th>\n",
       "      <td>1</td>\n",
       "    </tr>\n",
       "    <tr>\n",
       "      <th>412305.0</th>\n",
       "      <td>0</td>\n",
       "    </tr>\n",
       "  </tbody>\n",
       "</table>\n",
       "</div>"
      ],
      "text/plain": [
       "                 1\n",
       "0                 \n",
       "NaN       good_bad\n",
       "427211.0         1\n",
       "206088.0         1\n",
       "136020.0         1\n",
       "412305.0         0"
      ]
     },
     "execution_count": 6,
     "metadata": {},
     "output_type": "execute_result"
    }
   ],
   "source": [
    "load_data_targets_train.head()"
   ]
  },
  {
   "cell_type": "code",
   "execution_count": 7,
   "id": "7e33601e",
   "metadata": {},
   "outputs": [],
   "source": [
    "load_data_targets_train=load_data_targets_train.drop(load_data_targets_train.index[0])"
   ]
  },
  {
   "cell_type": "code",
   "execution_count": 8,
   "id": "1d572ac6",
   "metadata": {},
   "outputs": [
    {
     "data": {
      "text/html": [
       "<div>\n",
       "<style scoped>\n",
       "    .dataframe tbody tr th:only-of-type {\n",
       "        vertical-align: middle;\n",
       "    }\n",
       "\n",
       "    .dataframe tbody tr th {\n",
       "        vertical-align: top;\n",
       "    }\n",
       "\n",
       "    .dataframe thead th {\n",
       "        text-align: right;\n",
       "    }\n",
       "</style>\n",
       "<table border=\"1\" class=\"dataframe\">\n",
       "  <thead>\n",
       "    <tr style=\"text-align: right;\">\n",
       "      <th></th>\n",
       "      <th>1</th>\n",
       "    </tr>\n",
       "    <tr>\n",
       "      <th>0</th>\n",
       "      <th></th>\n",
       "    </tr>\n",
       "  </thead>\n",
       "  <tbody>\n",
       "    <tr>\n",
       "      <th>427211.0</th>\n",
       "      <td>1</td>\n",
       "    </tr>\n",
       "    <tr>\n",
       "      <th>206088.0</th>\n",
       "      <td>1</td>\n",
       "    </tr>\n",
       "    <tr>\n",
       "      <th>136020.0</th>\n",
       "      <td>1</td>\n",
       "    </tr>\n",
       "    <tr>\n",
       "      <th>412305.0</th>\n",
       "      <td>0</td>\n",
       "    </tr>\n",
       "    <tr>\n",
       "      <th>36159.0</th>\n",
       "      <td>0</td>\n",
       "    </tr>\n",
       "  </tbody>\n",
       "</table>\n",
       "</div>"
      ],
      "text/plain": [
       "          1\n",
       "0          \n",
       "427211.0  1\n",
       "206088.0  1\n",
       "136020.0  1\n",
       "412305.0  0\n",
       "36159.0   0"
      ]
     },
     "execution_count": 8,
     "metadata": {},
     "output_type": "execute_result"
    }
   ],
   "source": [
    "load_data_targets_train.head()"
   ]
  },
  {
   "cell_type": "code",
   "execution_count": 9,
   "id": "02162df1",
   "metadata": {},
   "outputs": [
    {
     "data": {
      "text/html": [
       "<div>\n",
       "<style scoped>\n",
       "    .dataframe tbody tr th:only-of-type {\n",
       "        vertical-align: middle;\n",
       "    }\n",
       "\n",
       "    .dataframe tbody tr th {\n",
       "        vertical-align: top;\n",
       "    }\n",
       "\n",
       "    .dataframe thead th {\n",
       "        text-align: right;\n",
       "    }\n",
       "</style>\n",
       "<table border=\"1\" class=\"dataframe\">\n",
       "  <thead>\n",
       "    <tr style=\"text-align: right;\">\n",
       "      <th></th>\n",
       "      <th>1</th>\n",
       "    </tr>\n",
       "    <tr>\n",
       "      <th>0</th>\n",
       "      <th></th>\n",
       "    </tr>\n",
       "  </thead>\n",
       "  <tbody>\n",
       "    <tr>\n",
       "      <th>427211.0</th>\n",
       "      <td>1</td>\n",
       "    </tr>\n",
       "    <tr>\n",
       "      <th>206088.0</th>\n",
       "      <td>1</td>\n",
       "    </tr>\n",
       "    <tr>\n",
       "      <th>136020.0</th>\n",
       "      <td>1</td>\n",
       "    </tr>\n",
       "    <tr>\n",
       "      <th>412305.0</th>\n",
       "      <td>0</td>\n",
       "    </tr>\n",
       "    <tr>\n",
       "      <th>36159.0</th>\n",
       "      <td>0</td>\n",
       "    </tr>\n",
       "  </tbody>\n",
       "</table>\n",
       "</div>"
      ],
      "text/plain": [
       "          1\n",
       "0          \n",
       "427211.0  1\n",
       "206088.0  1\n",
       "136020.0  1\n",
       "412305.0  0\n",
       "36159.0   0"
      ]
     },
     "execution_count": 9,
     "metadata": {},
     "output_type": "execute_result"
    }
   ],
   "source": [
    "load_data_targets_train.head()"
   ]
  },
  {
   "cell_type": "code",
   "execution_count": 10,
   "id": "80fc4cdc",
   "metadata": {},
   "outputs": [
    {
     "data": {
      "text/plain": [
       "(373028, 339)"
      ]
     },
     "execution_count": 10,
     "metadata": {},
     "output_type": "execute_result"
    }
   ],
   "source": [
    "load_data_inputs_train.shape"
   ]
  },
  {
   "cell_type": "code",
   "execution_count": 11,
   "id": "25e78f6a",
   "metadata": {},
   "outputs": [
    {
     "data": {
      "text/html": [
       "<div>\n",
       "<style scoped>\n",
       "    .dataframe tbody tr th:only-of-type {\n",
       "        vertical-align: middle;\n",
       "    }\n",
       "\n",
       "    .dataframe tbody tr th {\n",
       "        vertical-align: top;\n",
       "    }\n",
       "\n",
       "    .dataframe thead th {\n",
       "        text-align: right;\n",
       "    }\n",
       "</style>\n",
       "<table border=\"1\" class=\"dataframe\">\n",
       "  <thead>\n",
       "    <tr style=\"text-align: right;\">\n",
       "      <th></th>\n",
       "      <th>1</th>\n",
       "    </tr>\n",
       "    <tr>\n",
       "      <th>0</th>\n",
       "      <th></th>\n",
       "    </tr>\n",
       "  </thead>\n",
       "  <tbody>\n",
       "    <tr>\n",
       "      <th>NaN</th>\n",
       "      <td>good_bad</td>\n",
       "    </tr>\n",
       "    <tr>\n",
       "      <th>362514.0</th>\n",
       "      <td>1</td>\n",
       "    </tr>\n",
       "    <tr>\n",
       "      <th>288564.0</th>\n",
       "      <td>1</td>\n",
       "    </tr>\n",
       "    <tr>\n",
       "      <th>213591.0</th>\n",
       "      <td>1</td>\n",
       "    </tr>\n",
       "    <tr>\n",
       "      <th>263083.0</th>\n",
       "      <td>1</td>\n",
       "    </tr>\n",
       "  </tbody>\n",
       "</table>\n",
       "</div>"
      ],
      "text/plain": [
       "                 1\n",
       "0                 \n",
       "NaN       good_bad\n",
       "362514.0         1\n",
       "288564.0         1\n",
       "213591.0         1\n",
       "263083.0         1"
      ]
     },
     "execution_count": 11,
     "metadata": {},
     "output_type": "execute_result"
    }
   ],
   "source": [
    "load_data_targets_test.head()"
   ]
  },
  {
   "cell_type": "code",
   "execution_count": 12,
   "id": "db2b1041",
   "metadata": {},
   "outputs": [],
   "source": [
    "load_data_targets_test=load_data_targets_test.drop(load_data_targets_test.index[0])"
   ]
  },
  {
   "cell_type": "code",
   "execution_count": 13,
   "id": "ccfe08db",
   "metadata": {},
   "outputs": [
    {
     "data": {
      "text/html": [
       "<div>\n",
       "<style scoped>\n",
       "    .dataframe tbody tr th:only-of-type {\n",
       "        vertical-align: middle;\n",
       "    }\n",
       "\n",
       "    .dataframe tbody tr th {\n",
       "        vertical-align: top;\n",
       "    }\n",
       "\n",
       "    .dataframe thead th {\n",
       "        text-align: right;\n",
       "    }\n",
       "</style>\n",
       "<table border=\"1\" class=\"dataframe\">\n",
       "  <thead>\n",
       "    <tr style=\"text-align: right;\">\n",
       "      <th></th>\n",
       "      <th>1</th>\n",
       "    </tr>\n",
       "    <tr>\n",
       "      <th>0</th>\n",
       "      <th></th>\n",
       "    </tr>\n",
       "  </thead>\n",
       "  <tbody>\n",
       "    <tr>\n",
       "      <th>362514.0</th>\n",
       "      <td>1</td>\n",
       "    </tr>\n",
       "    <tr>\n",
       "      <th>288564.0</th>\n",
       "      <td>1</td>\n",
       "    </tr>\n",
       "    <tr>\n",
       "      <th>213591.0</th>\n",
       "      <td>1</td>\n",
       "    </tr>\n",
       "    <tr>\n",
       "      <th>263083.0</th>\n",
       "      <td>1</td>\n",
       "    </tr>\n",
       "    <tr>\n",
       "      <th>165001.0</th>\n",
       "      <td>1</td>\n",
       "    </tr>\n",
       "  </tbody>\n",
       "</table>\n",
       "</div>"
      ],
      "text/plain": [
       "          1\n",
       "0          \n",
       "362514.0  1\n",
       "288564.0  1\n",
       "213591.0  1\n",
       "263083.0  1\n",
       "165001.0  1"
      ]
     },
     "execution_count": 13,
     "metadata": {},
     "output_type": "execute_result"
    }
   ],
   "source": [
    "load_data_targets_test.head()"
   ]
  },
  {
   "cell_type": "code",
   "execution_count": 14,
   "id": "d421054c",
   "metadata": {},
   "outputs": [
    {
     "data": {
      "text/plain": [
       "(373028, 339)"
      ]
     },
     "execution_count": 14,
     "metadata": {},
     "output_type": "execute_result"
    }
   ],
   "source": [
    "load_data_inputs_test.shape"
   ]
  },
  {
   "cell_type": "code",
   "execution_count": 15,
   "id": "696cc162",
   "metadata": {},
   "outputs": [
    {
     "data": {
      "text/plain": [
       "(373028, 339)"
      ]
     },
     "execution_count": 15,
     "metadata": {},
     "output_type": "execute_result"
    }
   ],
   "source": [
    "load_data_inputs_train.shape"
   ]
  },
  {
   "cell_type": "code",
   "execution_count": 16,
   "id": "1b711a44",
   "metadata": {},
   "outputs": [
    {
     "data": {
      "text/plain": [
       "(373028, 1)"
      ]
     },
     "execution_count": 16,
     "metadata": {},
     "output_type": "execute_result"
    }
   ],
   "source": [
    "load_data_targets_train.shape"
   ]
  },
  {
   "cell_type": "code",
   "execution_count": 17,
   "id": "a07c8e13",
   "metadata": {},
   "outputs": [
    {
     "data": {
      "text/plain": [
       "(93257, 1)"
      ]
     },
     "execution_count": 17,
     "metadata": {},
     "output_type": "execute_result"
    }
   ],
   "source": [
    "load_data_targets_test.shape"
   ]
  },
  {
   "cell_type": "code",
   "execution_count": 18,
   "id": "69548569",
   "metadata": {},
   "outputs": [],
   "source": [
    "feature_selection=[\n",
    "    'grade:A',\n",
    "    'grade:B',\n",
    "    'grade:C',\n",
    "    'grade:D',\n",
    "    'grade:E',\n",
    "    'grade:F',\n",
    "    'grade:G',\n",
    "    'home_ownership:RENT_OTHER_NONE_ANY',\n",
    "    'home_ownership:MORTGAGE',\n",
    "    'home_ownership:OWN',\n",
    "    'addr_state:ND_NE_IA_NC_FL_HI_AL',\n",
    "    'addr_state:NM_VA',\n",
    "    'addr_state:OK_TN_MO_LA_MD_NC',\n",
    "    'addr_state:UT_KY_AZ_NJ',\n",
    "    'addr_state:AR_MI_PA_OH_MN',\n",
    "    'addr_state:RI_MA_DE_SD_IN',\n",
    "    'addr_state:GA_WA_OR',\n",
    "    'addr_state:WI_MT',\n",
    "    'addr_state:IL_CT',\n",
    "    'addr_state:KS_SC_CO_VT_AK_MS',\n",
    "    'addr_state:WV_NH_WY_DC_ME_ID',\n",
    "    'verification_status:Verified',\n",
    "    'verification_status:Source Verified',\n",
    "    'verification_status:Not Verified',\n",
    "    'purpose:educ__sm_b__wedd__ren_en__mov__house',\n",
    "    'purpose:small_business',\n",
    "    'purpose:educational',\n",
    "    'purpose:renewable_energy',\n",
    "    'purpose:wedding',\n",
    "    'purpose:vacation',\n",
    "    'purpose:house',\n",
    "    'purpose:medical',\n",
    "    'purpose:moving',\n",
    "    'purpose:other',\n",
    "    'purpose:debt_consolidation',\n",
    "    'purpose:home_improvement',\n",
    "    'purpose:car',\n",
    "    'purpose:major_purchase',\n",
    "    'purpose:credit_card',\n",
    "    'initial_list_status:f',\n",
    "    'initial_list_status:w',\n",
    "    'term:36',\n",
    "    'term:60',\n",
    "    'emp_length:0',\n",
    "    'emp_length:1',\n",
    "    'emp_length:2-4',\n",
    "    'emp_length:5-6',\n",
    "    'emp_length:7-9',\n",
    "    'emp_length:10',\n",
    "    'mths_since_issued_date:<38',\n",
    "    'mths_since_issued_date:38-39',\n",
    "    'mths_since_issued_date:40-41',\n",
    "    'mths_since_issued_date:42-48',\n",
    "    'mths_since_issued_date:49-52',\n",
    "    'mths_since_issued_date:53-64',\n",
    "    'mths_since_issued_date:65-84',\n",
    "    'mths_since_issued_date:>84',\n",
    "    'int_rate:<9.548',\n",
    "    'int_rate:9.548-12.025',\n",
    "    'int_rate:12.025-15.74',\n",
    "    'int_rate:15.74-20.281',\n",
    "    'int_rate:20.281',\n",
    "    'mths_since_earliest_cr_line:<140',\n",
    "    'mths_since_earliest_cr_line:140-239',\n",
    "    'mths_since_earliest_cr_line:240-339',\n",
    "    'mths_since_earliest_cr_line:340-439',\n",
    "    'mths_since_earliest_cr_line:440-539',\n",
    "    'mths_since_earliest_cr_line:540-600',\n",
    "    'mths_since_earliest_cr_line:>600',\n",
    "    'delinq_2yrs:0',\n",
    "    'delinq_2yrs:0-3',\n",
    "    'delinq_2yrs:3-7',\n",
    "    'delinq_2yrs:7-9',\n",
    "    'delinq_2yrs:9-11',\n",
    "    'delinq_2yrs:11-12',\n",
    "    'delinq_2yrs:12-18',\n",
    "    'delinq_2yrs:>18',\n",
    "    'inq_last_6mths:0',\n",
    "    'inq_last_6mths:0-3',\n",
    "    'inq_last_6mths:3-7',\n",
    "    'inq_last_6mths:7-9',\n",
    "    'inq_last_6mths:9-11',\n",
    "    'inq_last_6mths:11-12',\n",
    "    'inq_last_6mths:12-18',\n",
    "    'inq_last_6mths:18',\n",
    "    'open_acc:=0',\n",
    "    'open_acc:0-1',\n",
    "    'open_acc:1-4',\n",
    "    'open_acc:4-28',\n",
    "    'open_acc:28-35',\n",
    "    'open_acc:35-45',\n",
    "    'open_acc:>45',\n",
    "    'pub_rec:0-3',\n",
    "    'pub_rec:3-6',\n",
    "    'pub_rec:6-8',\n",
    "    'pub_rec:8',\n",
    "    'total_acc:<0',\n",
    "    'total_acc:0-4',\n",
    "    'total_acc:4-62',\n",
    "    'total_acc:62-72',\n",
    "    'total_acc:72-85',\n",
    "    'total_acc:>85',\n",
    "    'acc_now_delinq:<0',\n",
    "    'acc_now_delinq:0-1',\n",
    "    'acc_now_delinq:1-2',\n",
    "    'acc_now_delinq:2-3',\n",
    "    'acc_now_delinq:3-5',\n",
    "    'acc_now_delinq:>5',\n",
    "    'annual_inc:<20k',\n",
    "    'annual_inc:20k-30k',\n",
    "    'annual_inc:30k-40k',\n",
    "    'annual_inc:40k-50k',\n",
    "    'annual_inc:50k-60k',\n",
    "    'annual_inc:60k-70k',\n",
    "    'annual_inc:70k-80k',\n",
    "    'annual_inc:80k-90k',\n",
    "    'annual_inc:90k-100k',\n",
    "    'annual_inc:100k-120k',\n",
    "    'annual_inc:120k-140k',\n",
    "    'annual_inc:>140k',\n",
    "    'total_rev_hi_lim:<=5k',\n",
    "    'total_rev_hi_lim:5k_10k',\n",
    "    'total_rev_hi_lim:10k_20k',\n",
    "    'total_rev_hi_lim:20k_30k',\n",
    "    'total_rev_hi_lim:30k_40k',\n",
    "    'total_rev_hi_lim:40k_50k',\n",
    "    'total_rev_hi_lim:50k_65k',\n",
    "    'total_rev_hi_lim:65k_80k',\n",
    "    'total_rev_hi_lim:>80k',\n",
    "    'dti:<5',\n",
    "    'dti:5-10',\n",
    "    'dti:10-15',\n",
    "    'dti:15-20',\n",
    "    'dti:20-25',\n",
    "    'dti:25-30',\n",
    "    'dti:30-35',\n",
    "    'dti:35-40',\n",
    "    'dti:>40',\n",
    "    'mths_since_last_delinq:Missing',\n",
    "    'mths_since_last_delinq:0-3',\n",
    "    'mths_since_last_delinq:4-30',\n",
    "    'mths_since_last_delinq:31-56',\n",
    "    'mths_since_last_delinq:>=57',\n",
    "    'mths_since_last_record:Missing',\n",
    "    'mths_since_last_record:0-90',\n",
    "    'mths_since_last_record:90-120',\n",
    "    'mths_since_last_record:120-127',\n",
    "    'mths_since_last_record:>=127',\n",
    "    'loan_amnt',\n",
    "    'funded_amnt',\n",
    "    'int_rate',\n",
    "    'installment',\n",
    "]"
   ]
  },
  {
   "cell_type": "code",
   "execution_count": 19,
   "id": "3fa507e4",
   "metadata": {},
   "outputs": [],
   "source": [
    "inputs_train_with_ref_cat=load_data_inputs_train.reindex(feature_selection,axis='columns')"
   ]
  },
  {
   "cell_type": "code",
   "execution_count": 20,
   "id": "72ae38d2",
   "metadata": {},
   "outputs": [
    {
     "name": "stdout",
     "output_type": "stream",
     "text": [
      "<class 'pandas.core.frame.DataFrame'>\n",
      "Int64Index: 373028 entries, 427211 to 121958\n",
      "Columns: 152 entries, grade:A to installment\n",
      "dtypes: float64(3), int64(149)\n",
      "memory usage: 435.4 MB\n"
     ]
    }
   ],
   "source": [
    "inputs_train_with_ref_cat.info()"
   ]
  },
  {
   "cell_type": "code",
   "execution_count": 21,
   "id": "81e4bfc4",
   "metadata": {},
   "outputs": [
    {
     "data": {
      "text/html": [
       "<div>\n",
       "<style scoped>\n",
       "    .dataframe tbody tr th:only-of-type {\n",
       "        vertical-align: middle;\n",
       "    }\n",
       "\n",
       "    .dataframe tbody tr th {\n",
       "        vertical-align: top;\n",
       "    }\n",
       "\n",
       "    .dataframe thead th {\n",
       "        text-align: right;\n",
       "    }\n",
       "</style>\n",
       "<table border=\"1\" class=\"dataframe\">\n",
       "  <thead>\n",
       "    <tr style=\"text-align: right;\">\n",
       "      <th></th>\n",
       "      <th>grade:A</th>\n",
       "      <th>grade:B</th>\n",
       "      <th>grade:C</th>\n",
       "      <th>grade:D</th>\n",
       "      <th>grade:E</th>\n",
       "      <th>grade:F</th>\n",
       "      <th>grade:G</th>\n",
       "      <th>home_ownership:RENT_OTHER_NONE_ANY</th>\n",
       "      <th>home_ownership:MORTGAGE</th>\n",
       "      <th>home_ownership:OWN</th>\n",
       "      <th>...</th>\n",
       "      <th>mths_since_last_delinq:&gt;=57</th>\n",
       "      <th>mths_since_last_record:Missing</th>\n",
       "      <th>mths_since_last_record:0-90</th>\n",
       "      <th>mths_since_last_record:90-120</th>\n",
       "      <th>mths_since_last_record:120-127</th>\n",
       "      <th>mths_since_last_record:&gt;=127</th>\n",
       "      <th>loan_amnt</th>\n",
       "      <th>funded_amnt</th>\n",
       "      <th>int_rate</th>\n",
       "      <th>installment</th>\n",
       "    </tr>\n",
       "  </thead>\n",
       "  <tbody>\n",
       "    <tr>\n",
       "      <th>427211</th>\n",
       "      <td>1</td>\n",
       "      <td>0</td>\n",
       "      <td>0</td>\n",
       "      <td>0</td>\n",
       "      <td>0</td>\n",
       "      <td>0</td>\n",
       "      <td>0</td>\n",
       "      <td>0</td>\n",
       "      <td>1</td>\n",
       "      <td>0</td>\n",
       "      <td>...</td>\n",
       "      <td>0</td>\n",
       "      <td>1</td>\n",
       "      <td>0</td>\n",
       "      <td>0</td>\n",
       "      <td>0</td>\n",
       "      <td>0</td>\n",
       "      <td>24000</td>\n",
       "      <td>24000</td>\n",
       "      <td>8.90</td>\n",
       "      <td>762.08</td>\n",
       "    </tr>\n",
       "    <tr>\n",
       "      <th>206088</th>\n",
       "      <td>0</td>\n",
       "      <td>0</td>\n",
       "      <td>1</td>\n",
       "      <td>0</td>\n",
       "      <td>0</td>\n",
       "      <td>0</td>\n",
       "      <td>0</td>\n",
       "      <td>0</td>\n",
       "      <td>1</td>\n",
       "      <td>0</td>\n",
       "      <td>...</td>\n",
       "      <td>0</td>\n",
       "      <td>1</td>\n",
       "      <td>0</td>\n",
       "      <td>0</td>\n",
       "      <td>0</td>\n",
       "      <td>0</td>\n",
       "      <td>10000</td>\n",
       "      <td>10000</td>\n",
       "      <td>14.33</td>\n",
       "      <td>343.39</td>\n",
       "    </tr>\n",
       "    <tr>\n",
       "      <th>136020</th>\n",
       "      <td>1</td>\n",
       "      <td>0</td>\n",
       "      <td>0</td>\n",
       "      <td>0</td>\n",
       "      <td>0</td>\n",
       "      <td>0</td>\n",
       "      <td>0</td>\n",
       "      <td>0</td>\n",
       "      <td>1</td>\n",
       "      <td>0</td>\n",
       "      <td>...</td>\n",
       "      <td>0</td>\n",
       "      <td>1</td>\n",
       "      <td>0</td>\n",
       "      <td>0</td>\n",
       "      <td>0</td>\n",
       "      <td>0</td>\n",
       "      <td>20425</td>\n",
       "      <td>20425</td>\n",
       "      <td>8.90</td>\n",
       "      <td>648.56</td>\n",
       "    </tr>\n",
       "    <tr>\n",
       "      <th>412305</th>\n",
       "      <td>0</td>\n",
       "      <td>0</td>\n",
       "      <td>0</td>\n",
       "      <td>1</td>\n",
       "      <td>0</td>\n",
       "      <td>0</td>\n",
       "      <td>0</td>\n",
       "      <td>1</td>\n",
       "      <td>0</td>\n",
       "      <td>0</td>\n",
       "      <td>...</td>\n",
       "      <td>0</td>\n",
       "      <td>1</td>\n",
       "      <td>0</td>\n",
       "      <td>0</td>\n",
       "      <td>0</td>\n",
       "      <td>0</td>\n",
       "      <td>17200</td>\n",
       "      <td>17200</td>\n",
       "      <td>16.59</td>\n",
       "      <td>609.73</td>\n",
       "    </tr>\n",
       "    <tr>\n",
       "      <th>36159</th>\n",
       "      <td>0</td>\n",
       "      <td>0</td>\n",
       "      <td>1</td>\n",
       "      <td>0</td>\n",
       "      <td>0</td>\n",
       "      <td>0</td>\n",
       "      <td>0</td>\n",
       "      <td>0</td>\n",
       "      <td>1</td>\n",
       "      <td>0</td>\n",
       "      <td>...</td>\n",
       "      <td>0</td>\n",
       "      <td>1</td>\n",
       "      <td>0</td>\n",
       "      <td>0</td>\n",
       "      <td>0</td>\n",
       "      <td>0</td>\n",
       "      <td>8400</td>\n",
       "      <td>8400</td>\n",
       "      <td>12.84</td>\n",
       "      <td>282.40</td>\n",
       "    </tr>\n",
       "  </tbody>\n",
       "</table>\n",
       "<p>5 rows × 152 columns</p>\n",
       "</div>"
      ],
      "text/plain": [
       "        grade:A  grade:B  grade:C  grade:D  grade:E  grade:F  grade:G  \\\n",
       "427211        1        0        0        0        0        0        0   \n",
       "206088        0        0        1        0        0        0        0   \n",
       "136020        1        0        0        0        0        0        0   \n",
       "412305        0        0        0        1        0        0        0   \n",
       "36159         0        0        1        0        0        0        0   \n",
       "\n",
       "        home_ownership:RENT_OTHER_NONE_ANY  home_ownership:MORTGAGE  \\\n",
       "427211                                   0                        1   \n",
       "206088                                   0                        1   \n",
       "136020                                   0                        1   \n",
       "412305                                   1                        0   \n",
       "36159                                    0                        1   \n",
       "\n",
       "        home_ownership:OWN  ...  mths_since_last_delinq:>=57  \\\n",
       "427211                   0  ...                            0   \n",
       "206088                   0  ...                            0   \n",
       "136020                   0  ...                            0   \n",
       "412305                   0  ...                            0   \n",
       "36159                    0  ...                            0   \n",
       "\n",
       "        mths_since_last_record:Missing  mths_since_last_record:0-90  \\\n",
       "427211                               1                            0   \n",
       "206088                               1                            0   \n",
       "136020                               1                            0   \n",
       "412305                               1                            0   \n",
       "36159                                1                            0   \n",
       "\n",
       "        mths_since_last_record:90-120  mths_since_last_record:120-127  \\\n",
       "427211                              0                               0   \n",
       "206088                              0                               0   \n",
       "136020                              0                               0   \n",
       "412305                              0                               0   \n",
       "36159                               0                               0   \n",
       "\n",
       "        mths_since_last_record:>=127  loan_amnt  funded_amnt  int_rate  \\\n",
       "427211                             0      24000        24000      8.90   \n",
       "206088                             0      10000        10000     14.33   \n",
       "136020                             0      20425        20425      8.90   \n",
       "412305                             0      17200        17200     16.59   \n",
       "36159                              0       8400         8400     12.84   \n",
       "\n",
       "        installment  \n",
       "427211       762.08  \n",
       "206088       343.39  \n",
       "136020       648.56  \n",
       "412305       609.73  \n",
       "36159        282.40  \n",
       "\n",
       "[5 rows x 152 columns]"
      ]
     },
     "execution_count": 21,
     "metadata": {},
     "output_type": "execute_result"
    }
   ],
   "source": [
    "inputs_train_with_ref_cat.head()"
   ]
  },
  {
   "cell_type": "code",
   "execution_count": 22,
   "id": "baaa51e2",
   "metadata": {},
   "outputs": [],
   "source": [
    "ref_categories=[\n",
    "    'grade:G',\n",
    "    'home_ownership:RENT_OTHER_NONE_ANY',\n",
    "    'addr_state:ND_NE_IA_NC_FL_HI_AL',\n",
    "    'verification_status:Verified',\n",
    "    'purpose:educ__sm_b__wedd__ren_en__mov__house',\n",
    "    'initial_list_status:f',\n",
    "    'term:60',\n",
    "    'emp_length:0',\n",
    "    'mths_since_issued_date:>84',\n",
    "    'int_rate:20.281',\n",
    "    'mths_since_earliest_cr_line:<140',\n",
    "    'delinq_2yrs:>18',\n",
    "    'inq_last_6mths:7-9',\n",
    "    'open_acc:=0',\n",
    "    'pub_rec:0-3',\n",
    "    'total_acc:>85',\n",
    "    'acc_now_delinq:<0',\n",
    "    'total_rev_hi_lim:<=5k',\n",
    "    'annual_inc:<20k',\n",
    "    'dti:>40',\n",
    "    'mths_since_last_delinq:0-3',\n",
    "    'mths_since_last_record:Missing',\n",
    "]"
   ]
  },
  {
   "cell_type": "code",
   "execution_count": 23,
   "id": "2af828f8",
   "metadata": {},
   "outputs": [
    {
     "data": {
      "text/html": [
       "<div>\n",
       "<style scoped>\n",
       "    .dataframe tbody tr th:only-of-type {\n",
       "        vertical-align: middle;\n",
       "    }\n",
       "\n",
       "    .dataframe tbody tr th {\n",
       "        vertical-align: top;\n",
       "    }\n",
       "\n",
       "    .dataframe thead th {\n",
       "        text-align: right;\n",
       "    }\n",
       "</style>\n",
       "<table border=\"1\" class=\"dataframe\">\n",
       "  <thead>\n",
       "    <tr style=\"text-align: right;\">\n",
       "      <th></th>\n",
       "      <th>grade:A</th>\n",
       "      <th>grade:B</th>\n",
       "      <th>grade:C</th>\n",
       "      <th>grade:D</th>\n",
       "      <th>grade:E</th>\n",
       "      <th>grade:F</th>\n",
       "      <th>home_ownership:MORTGAGE</th>\n",
       "      <th>home_ownership:OWN</th>\n",
       "      <th>addr_state:NM_VA</th>\n",
       "      <th>addr_state:OK_TN_MO_LA_MD_NC</th>\n",
       "      <th>...</th>\n",
       "      <th>mths_since_last_delinq:31-56</th>\n",
       "      <th>mths_since_last_delinq:&gt;=57</th>\n",
       "      <th>mths_since_last_record:0-90</th>\n",
       "      <th>mths_since_last_record:90-120</th>\n",
       "      <th>mths_since_last_record:120-127</th>\n",
       "      <th>mths_since_last_record:&gt;=127</th>\n",
       "      <th>loan_amnt</th>\n",
       "      <th>funded_amnt</th>\n",
       "      <th>int_rate</th>\n",
       "      <th>installment</th>\n",
       "    </tr>\n",
       "  </thead>\n",
       "  <tbody>\n",
       "    <tr>\n",
       "      <th>427211</th>\n",
       "      <td>1</td>\n",
       "      <td>0</td>\n",
       "      <td>0</td>\n",
       "      <td>0</td>\n",
       "      <td>0</td>\n",
       "      <td>0</td>\n",
       "      <td>1</td>\n",
       "      <td>0</td>\n",
       "      <td>0</td>\n",
       "      <td>0</td>\n",
       "      <td>...</td>\n",
       "      <td>0</td>\n",
       "      <td>0</td>\n",
       "      <td>0</td>\n",
       "      <td>0</td>\n",
       "      <td>0</td>\n",
       "      <td>0</td>\n",
       "      <td>24000</td>\n",
       "      <td>24000</td>\n",
       "      <td>8.90</td>\n",
       "      <td>762.08</td>\n",
       "    </tr>\n",
       "    <tr>\n",
       "      <th>206088</th>\n",
       "      <td>0</td>\n",
       "      <td>0</td>\n",
       "      <td>1</td>\n",
       "      <td>0</td>\n",
       "      <td>0</td>\n",
       "      <td>0</td>\n",
       "      <td>1</td>\n",
       "      <td>0</td>\n",
       "      <td>0</td>\n",
       "      <td>0</td>\n",
       "      <td>...</td>\n",
       "      <td>0</td>\n",
       "      <td>0</td>\n",
       "      <td>0</td>\n",
       "      <td>0</td>\n",
       "      <td>0</td>\n",
       "      <td>0</td>\n",
       "      <td>10000</td>\n",
       "      <td>10000</td>\n",
       "      <td>14.33</td>\n",
       "      <td>343.39</td>\n",
       "    </tr>\n",
       "    <tr>\n",
       "      <th>136020</th>\n",
       "      <td>1</td>\n",
       "      <td>0</td>\n",
       "      <td>0</td>\n",
       "      <td>0</td>\n",
       "      <td>0</td>\n",
       "      <td>0</td>\n",
       "      <td>1</td>\n",
       "      <td>0</td>\n",
       "      <td>0</td>\n",
       "      <td>0</td>\n",
       "      <td>...</td>\n",
       "      <td>1</td>\n",
       "      <td>0</td>\n",
       "      <td>0</td>\n",
       "      <td>0</td>\n",
       "      <td>0</td>\n",
       "      <td>0</td>\n",
       "      <td>20425</td>\n",
       "      <td>20425</td>\n",
       "      <td>8.90</td>\n",
       "      <td>648.56</td>\n",
       "    </tr>\n",
       "    <tr>\n",
       "      <th>412305</th>\n",
       "      <td>0</td>\n",
       "      <td>0</td>\n",
       "      <td>0</td>\n",
       "      <td>1</td>\n",
       "      <td>0</td>\n",
       "      <td>0</td>\n",
       "      <td>0</td>\n",
       "      <td>0</td>\n",
       "      <td>0</td>\n",
       "      <td>0</td>\n",
       "      <td>...</td>\n",
       "      <td>0</td>\n",
       "      <td>0</td>\n",
       "      <td>0</td>\n",
       "      <td>0</td>\n",
       "      <td>0</td>\n",
       "      <td>0</td>\n",
       "      <td>17200</td>\n",
       "      <td>17200</td>\n",
       "      <td>16.59</td>\n",
       "      <td>609.73</td>\n",
       "    </tr>\n",
       "    <tr>\n",
       "      <th>36159</th>\n",
       "      <td>0</td>\n",
       "      <td>0</td>\n",
       "      <td>1</td>\n",
       "      <td>0</td>\n",
       "      <td>0</td>\n",
       "      <td>0</td>\n",
       "      <td>1</td>\n",
       "      <td>0</td>\n",
       "      <td>0</td>\n",
       "      <td>0</td>\n",
       "      <td>...</td>\n",
       "      <td>0</td>\n",
       "      <td>0</td>\n",
       "      <td>0</td>\n",
       "      <td>0</td>\n",
       "      <td>0</td>\n",
       "      <td>0</td>\n",
       "      <td>8400</td>\n",
       "      <td>8400</td>\n",
       "      <td>12.84</td>\n",
       "      <td>282.40</td>\n",
       "    </tr>\n",
       "  </tbody>\n",
       "</table>\n",
       "<p>5 rows × 130 columns</p>\n",
       "</div>"
      ],
      "text/plain": [
       "        grade:A  grade:B  grade:C  grade:D  grade:E  grade:F  \\\n",
       "427211        1        0        0        0        0        0   \n",
       "206088        0        0        1        0        0        0   \n",
       "136020        1        0        0        0        0        0   \n",
       "412305        0        0        0        1        0        0   \n",
       "36159         0        0        1        0        0        0   \n",
       "\n",
       "        home_ownership:MORTGAGE  home_ownership:OWN  addr_state:NM_VA  \\\n",
       "427211                        1                   0                 0   \n",
       "206088                        1                   0                 0   \n",
       "136020                        1                   0                 0   \n",
       "412305                        0                   0                 0   \n",
       "36159                         1                   0                 0   \n",
       "\n",
       "        addr_state:OK_TN_MO_LA_MD_NC  ...  mths_since_last_delinq:31-56  \\\n",
       "427211                             0  ...                             0   \n",
       "206088                             0  ...                             0   \n",
       "136020                             0  ...                             1   \n",
       "412305                             0  ...                             0   \n",
       "36159                              0  ...                             0   \n",
       "\n",
       "        mths_since_last_delinq:>=57  mths_since_last_record:0-90  \\\n",
       "427211                            0                            0   \n",
       "206088                            0                            0   \n",
       "136020                            0                            0   \n",
       "412305                            0                            0   \n",
       "36159                             0                            0   \n",
       "\n",
       "        mths_since_last_record:90-120  mths_since_last_record:120-127  \\\n",
       "427211                              0                               0   \n",
       "206088                              0                               0   \n",
       "136020                              0                               0   \n",
       "412305                              0                               0   \n",
       "36159                               0                               0   \n",
       "\n",
       "        mths_since_last_record:>=127  loan_amnt  funded_amnt  int_rate  \\\n",
       "427211                             0      24000        24000      8.90   \n",
       "206088                             0      10000        10000     14.33   \n",
       "136020                             0      20425        20425      8.90   \n",
       "412305                             0      17200        17200     16.59   \n",
       "36159                              0       8400         8400     12.84   \n",
       "\n",
       "        installment  \n",
       "427211       762.08  \n",
       "206088       343.39  \n",
       "136020       648.56  \n",
       "412305       609.73  \n",
       "36159        282.40  \n",
       "\n",
       "[5 rows x 130 columns]"
      ]
     },
     "execution_count": 23,
     "metadata": {},
     "output_type": "execute_result"
    }
   ],
   "source": [
    "input_train = inputs_train_with_ref_cat.drop(ref_categories,axis='columns')\n",
    "input_train.head()"
   ]
  },
  {
   "cell_type": "code",
   "execution_count": 24,
   "id": "17157965",
   "metadata": {},
   "outputs": [],
   "source": [
    "# Logistic Regression "
   ]
  },
  {
   "cell_type": "code",
   "execution_count": 25,
   "id": "497272be",
   "metadata": {},
   "outputs": [],
   "source": [
    "from sklearn.linear_model import LogisticRegression\n",
    "from sklearn import metrics"
   ]
  },
  {
   "cell_type": "code",
   "execution_count": 26,
   "id": "638fc8c0",
   "metadata": {},
   "outputs": [],
   "source": [
    "reg=LogisticRegression(max_iter=200)"
   ]
  },
  {
   "cell_type": "code",
   "execution_count": 27,
   "id": "15f46b8a",
   "metadata": {},
   "outputs": [
    {
     "data": {
      "text/html": [
       "<div>\n",
       "<style scoped>\n",
       "    .dataframe tbody tr th:only-of-type {\n",
       "        vertical-align: middle;\n",
       "    }\n",
       "\n",
       "    .dataframe tbody tr th {\n",
       "        vertical-align: top;\n",
       "    }\n",
       "\n",
       "    .dataframe thead th {\n",
       "        text-align: right;\n",
       "    }\n",
       "</style>\n",
       "<table border=\"1\" class=\"dataframe\">\n",
       "  <thead>\n",
       "    <tr style=\"text-align: right;\">\n",
       "      <th></th>\n",
       "      <th>grade:A</th>\n",
       "      <th>grade:B</th>\n",
       "      <th>grade:C</th>\n",
       "      <th>grade:D</th>\n",
       "      <th>grade:E</th>\n",
       "      <th>grade:F</th>\n",
       "      <th>home_ownership:MORTGAGE</th>\n",
       "      <th>home_ownership:OWN</th>\n",
       "      <th>addr_state:NM_VA</th>\n",
       "      <th>addr_state:OK_TN_MO_LA_MD_NC</th>\n",
       "      <th>...</th>\n",
       "      <th>mths_since_last_delinq:31-56</th>\n",
       "      <th>mths_since_last_delinq:&gt;=57</th>\n",
       "      <th>mths_since_last_record:0-90</th>\n",
       "      <th>mths_since_last_record:90-120</th>\n",
       "      <th>mths_since_last_record:120-127</th>\n",
       "      <th>mths_since_last_record:&gt;=127</th>\n",
       "      <th>loan_amnt</th>\n",
       "      <th>funded_amnt</th>\n",
       "      <th>int_rate</th>\n",
       "      <th>installment</th>\n",
       "    </tr>\n",
       "  </thead>\n",
       "  <tbody>\n",
       "    <tr>\n",
       "      <th>427211</th>\n",
       "      <td>1</td>\n",
       "      <td>0</td>\n",
       "      <td>0</td>\n",
       "      <td>0</td>\n",
       "      <td>0</td>\n",
       "      <td>0</td>\n",
       "      <td>1</td>\n",
       "      <td>0</td>\n",
       "      <td>0</td>\n",
       "      <td>0</td>\n",
       "      <td>...</td>\n",
       "      <td>0</td>\n",
       "      <td>0</td>\n",
       "      <td>0</td>\n",
       "      <td>0</td>\n",
       "      <td>0</td>\n",
       "      <td>0</td>\n",
       "      <td>24000</td>\n",
       "      <td>24000</td>\n",
       "      <td>8.90</td>\n",
       "      <td>762.08</td>\n",
       "    </tr>\n",
       "    <tr>\n",
       "      <th>206088</th>\n",
       "      <td>0</td>\n",
       "      <td>0</td>\n",
       "      <td>1</td>\n",
       "      <td>0</td>\n",
       "      <td>0</td>\n",
       "      <td>0</td>\n",
       "      <td>1</td>\n",
       "      <td>0</td>\n",
       "      <td>0</td>\n",
       "      <td>0</td>\n",
       "      <td>...</td>\n",
       "      <td>0</td>\n",
       "      <td>0</td>\n",
       "      <td>0</td>\n",
       "      <td>0</td>\n",
       "      <td>0</td>\n",
       "      <td>0</td>\n",
       "      <td>10000</td>\n",
       "      <td>10000</td>\n",
       "      <td>14.33</td>\n",
       "      <td>343.39</td>\n",
       "    </tr>\n",
       "    <tr>\n",
       "      <th>136020</th>\n",
       "      <td>1</td>\n",
       "      <td>0</td>\n",
       "      <td>0</td>\n",
       "      <td>0</td>\n",
       "      <td>0</td>\n",
       "      <td>0</td>\n",
       "      <td>1</td>\n",
       "      <td>0</td>\n",
       "      <td>0</td>\n",
       "      <td>0</td>\n",
       "      <td>...</td>\n",
       "      <td>1</td>\n",
       "      <td>0</td>\n",
       "      <td>0</td>\n",
       "      <td>0</td>\n",
       "      <td>0</td>\n",
       "      <td>0</td>\n",
       "      <td>20425</td>\n",
       "      <td>20425</td>\n",
       "      <td>8.90</td>\n",
       "      <td>648.56</td>\n",
       "    </tr>\n",
       "    <tr>\n",
       "      <th>412305</th>\n",
       "      <td>0</td>\n",
       "      <td>0</td>\n",
       "      <td>0</td>\n",
       "      <td>1</td>\n",
       "      <td>0</td>\n",
       "      <td>0</td>\n",
       "      <td>0</td>\n",
       "      <td>0</td>\n",
       "      <td>0</td>\n",
       "      <td>0</td>\n",
       "      <td>...</td>\n",
       "      <td>0</td>\n",
       "      <td>0</td>\n",
       "      <td>0</td>\n",
       "      <td>0</td>\n",
       "      <td>0</td>\n",
       "      <td>0</td>\n",
       "      <td>17200</td>\n",
       "      <td>17200</td>\n",
       "      <td>16.59</td>\n",
       "      <td>609.73</td>\n",
       "    </tr>\n",
       "    <tr>\n",
       "      <th>36159</th>\n",
       "      <td>0</td>\n",
       "      <td>0</td>\n",
       "      <td>1</td>\n",
       "      <td>0</td>\n",
       "      <td>0</td>\n",
       "      <td>0</td>\n",
       "      <td>1</td>\n",
       "      <td>0</td>\n",
       "      <td>0</td>\n",
       "      <td>0</td>\n",
       "      <td>...</td>\n",
       "      <td>0</td>\n",
       "      <td>0</td>\n",
       "      <td>0</td>\n",
       "      <td>0</td>\n",
       "      <td>0</td>\n",
       "      <td>0</td>\n",
       "      <td>8400</td>\n",
       "      <td>8400</td>\n",
       "      <td>12.84</td>\n",
       "      <td>282.40</td>\n",
       "    </tr>\n",
       "  </tbody>\n",
       "</table>\n",
       "<p>5 rows × 130 columns</p>\n",
       "</div>"
      ],
      "text/plain": [
       "        grade:A  grade:B  grade:C  grade:D  grade:E  grade:F  \\\n",
       "427211        1        0        0        0        0        0   \n",
       "206088        0        0        1        0        0        0   \n",
       "136020        1        0        0        0        0        0   \n",
       "412305        0        0        0        1        0        0   \n",
       "36159         0        0        1        0        0        0   \n",
       "\n",
       "        home_ownership:MORTGAGE  home_ownership:OWN  addr_state:NM_VA  \\\n",
       "427211                        1                   0                 0   \n",
       "206088                        1                   0                 0   \n",
       "136020                        1                   0                 0   \n",
       "412305                        0                   0                 0   \n",
       "36159                         1                   0                 0   \n",
       "\n",
       "        addr_state:OK_TN_MO_LA_MD_NC  ...  mths_since_last_delinq:31-56  \\\n",
       "427211                             0  ...                             0   \n",
       "206088                             0  ...                             0   \n",
       "136020                             0  ...                             1   \n",
       "412305                             0  ...                             0   \n",
       "36159                              0  ...                             0   \n",
       "\n",
       "        mths_since_last_delinq:>=57  mths_since_last_record:0-90  \\\n",
       "427211                            0                            0   \n",
       "206088                            0                            0   \n",
       "136020                            0                            0   \n",
       "412305                            0                            0   \n",
       "36159                             0                            0   \n",
       "\n",
       "        mths_since_last_record:90-120  mths_since_last_record:120-127  \\\n",
       "427211                              0                               0   \n",
       "206088                              0                               0   \n",
       "136020                              0                               0   \n",
       "412305                              0                               0   \n",
       "36159                               0                               0   \n",
       "\n",
       "        mths_since_last_record:>=127  loan_amnt  funded_amnt  int_rate  \\\n",
       "427211                             0      24000        24000      8.90   \n",
       "206088                             0      10000        10000     14.33   \n",
       "136020                             0      20425        20425      8.90   \n",
       "412305                             0      17200        17200     16.59   \n",
       "36159                              0       8400         8400     12.84   \n",
       "\n",
       "        installment  \n",
       "427211       762.08  \n",
       "206088       343.39  \n",
       "136020       648.56  \n",
       "412305       609.73  \n",
       "36159        282.40  \n",
       "\n",
       "[5 rows x 130 columns]"
      ]
     },
     "execution_count": 27,
     "metadata": {},
     "output_type": "execute_result"
    }
   ],
   "source": [
    "input_train.head()"
   ]
  },
  {
   "cell_type": "code",
   "execution_count": 28,
   "id": "247670ea",
   "metadata": {},
   "outputs": [],
   "source": [
    "input_train=input_train.astype(float)"
   ]
  },
  {
   "cell_type": "code",
   "execution_count": 29,
   "id": "b4411cbb",
   "metadata": {},
   "outputs": [],
   "source": [
    "load_data_targets_train=load_data_targets_train.astype(int)"
   ]
  },
  {
   "cell_type": "code",
   "execution_count": 30,
   "id": "34ce9f58",
   "metadata": {},
   "outputs": [
    {
     "data": {
      "text/html": [
       "<style>#sk-container-id-1 {color: black;background-color: white;}#sk-container-id-1 pre{padding: 0;}#sk-container-id-1 div.sk-toggleable {background-color: white;}#sk-container-id-1 label.sk-toggleable__label {cursor: pointer;display: block;width: 100%;margin-bottom: 0;padding: 0.3em;box-sizing: border-box;text-align: center;}#sk-container-id-1 label.sk-toggleable__label-arrow:before {content: \"▸\";float: left;margin-right: 0.25em;color: #696969;}#sk-container-id-1 label.sk-toggleable__label-arrow:hover:before {color: black;}#sk-container-id-1 div.sk-estimator:hover label.sk-toggleable__label-arrow:before {color: black;}#sk-container-id-1 div.sk-toggleable__content {max-height: 0;max-width: 0;overflow: hidden;text-align: left;background-color: #f0f8ff;}#sk-container-id-1 div.sk-toggleable__content pre {margin: 0.2em;color: black;border-radius: 0.25em;background-color: #f0f8ff;}#sk-container-id-1 input.sk-toggleable__control:checked~div.sk-toggleable__content {max-height: 200px;max-width: 100%;overflow: auto;}#sk-container-id-1 input.sk-toggleable__control:checked~label.sk-toggleable__label-arrow:before {content: \"▾\";}#sk-container-id-1 div.sk-estimator input.sk-toggleable__control:checked~label.sk-toggleable__label {background-color: #d4ebff;}#sk-container-id-1 div.sk-label input.sk-toggleable__control:checked~label.sk-toggleable__label {background-color: #d4ebff;}#sk-container-id-1 input.sk-hidden--visually {border: 0;clip: rect(1px 1px 1px 1px);clip: rect(1px, 1px, 1px, 1px);height: 1px;margin: -1px;overflow: hidden;padding: 0;position: absolute;width: 1px;}#sk-container-id-1 div.sk-estimator {font-family: monospace;background-color: #f0f8ff;border: 1px dotted black;border-radius: 0.25em;box-sizing: border-box;margin-bottom: 0.5em;}#sk-container-id-1 div.sk-estimator:hover {background-color: #d4ebff;}#sk-container-id-1 div.sk-parallel-item::after {content: \"\";width: 100%;border-bottom: 1px solid gray;flex-grow: 1;}#sk-container-id-1 div.sk-label:hover label.sk-toggleable__label {background-color: #d4ebff;}#sk-container-id-1 div.sk-serial::before {content: \"\";position: absolute;border-left: 1px solid gray;box-sizing: border-box;top: 0;bottom: 0;left: 50%;z-index: 0;}#sk-container-id-1 div.sk-serial {display: flex;flex-direction: column;align-items: center;background-color: white;padding-right: 0.2em;padding-left: 0.2em;position: relative;}#sk-container-id-1 div.sk-item {position: relative;z-index: 1;}#sk-container-id-1 div.sk-parallel {display: flex;align-items: stretch;justify-content: center;background-color: white;position: relative;}#sk-container-id-1 div.sk-item::before, #sk-container-id-1 div.sk-parallel-item::before {content: \"\";position: absolute;border-left: 1px solid gray;box-sizing: border-box;top: 0;bottom: 0;left: 50%;z-index: -1;}#sk-container-id-1 div.sk-parallel-item {display: flex;flex-direction: column;z-index: 1;position: relative;background-color: white;}#sk-container-id-1 div.sk-parallel-item:first-child::after {align-self: flex-end;width: 50%;}#sk-container-id-1 div.sk-parallel-item:last-child::after {align-self: flex-start;width: 50%;}#sk-container-id-1 div.sk-parallel-item:only-child::after {width: 0;}#sk-container-id-1 div.sk-dashed-wrapped {border: 1px dashed gray;margin: 0 0.4em 0.5em 0.4em;box-sizing: border-box;padding-bottom: 0.4em;background-color: white;}#sk-container-id-1 div.sk-label label {font-family: monospace;font-weight: bold;display: inline-block;line-height: 1.2em;}#sk-container-id-1 div.sk-label-container {text-align: center;}#sk-container-id-1 div.sk-container {/* jupyter's `normalize.less` sets `[hidden] { display: none; }` but bootstrap.min.css set `[hidden] { display: none !important; }` so we also need the `!important` here to be able to override the default hidden behavior on the sphinx rendered scikit-learn.org. See: https://github.com/scikit-learn/scikit-learn/issues/21755 */display: inline-block !important;position: relative;}#sk-container-id-1 div.sk-text-repr-fallback {display: none;}</style><div id=\"sk-container-id-1\" class=\"sk-top-container\"><div class=\"sk-text-repr-fallback\"><pre>LogisticRegression(max_iter=200)</pre><b>In a Jupyter environment, please rerun this cell to show the HTML representation or trust the notebook. <br />On GitHub, the HTML representation is unable to render, please try loading this page with nbviewer.org.</b></div><div class=\"sk-container\" hidden><div class=\"sk-item\"><div class=\"sk-estimator sk-toggleable\"><input class=\"sk-toggleable__control sk-hidden--visually\" id=\"sk-estimator-id-1\" type=\"checkbox\" checked><label for=\"sk-estimator-id-1\" class=\"sk-toggleable__label sk-toggleable__label-arrow\">LogisticRegression</label><div class=\"sk-toggleable__content\"><pre>LogisticRegression(max_iter=200)</pre></div></div></div></div></div>"
      ],
      "text/plain": [
       "LogisticRegression(max_iter=200)"
      ]
     },
     "execution_count": 30,
     "metadata": {},
     "output_type": "execute_result"
    }
   ],
   "source": [
    "reg.fit(input_train,load_data_targets_train)"
   ]
  },
  {
   "cell_type": "code",
   "execution_count": 31,
   "id": "48d9b2cc",
   "metadata": {},
   "outputs": [],
   "source": [
    "input_test_with_ref_category=load_data_inputs_test.reindex(feature_selection,axis='columns')"
   ]
  },
  {
   "cell_type": "code",
   "execution_count": 32,
   "id": "bf77716c",
   "metadata": {},
   "outputs": [],
   "source": [
    "input_test=input_test_with_ref_category.drop(ref_categories,axis=1)"
   ]
  },
  {
   "cell_type": "code",
   "execution_count": 33,
   "id": "c1e68db1",
   "metadata": {},
   "outputs": [
    {
     "data": {
      "text/html": [
       "<div>\n",
       "<style scoped>\n",
       "    .dataframe tbody tr th:only-of-type {\n",
       "        vertical-align: middle;\n",
       "    }\n",
       "\n",
       "    .dataframe tbody tr th {\n",
       "        vertical-align: top;\n",
       "    }\n",
       "\n",
       "    .dataframe thead th {\n",
       "        text-align: right;\n",
       "    }\n",
       "</style>\n",
       "<table border=\"1\" class=\"dataframe\">\n",
       "  <thead>\n",
       "    <tr style=\"text-align: right;\">\n",
       "      <th></th>\n",
       "      <th>grade:A</th>\n",
       "      <th>grade:B</th>\n",
       "      <th>grade:C</th>\n",
       "      <th>grade:D</th>\n",
       "      <th>grade:E</th>\n",
       "      <th>grade:F</th>\n",
       "      <th>home_ownership:MORTGAGE</th>\n",
       "      <th>home_ownership:OWN</th>\n",
       "      <th>addr_state:NM_VA</th>\n",
       "      <th>addr_state:OK_TN_MO_LA_MD_NC</th>\n",
       "      <th>...</th>\n",
       "      <th>mths_since_last_delinq:31-56</th>\n",
       "      <th>mths_since_last_delinq:&gt;=57</th>\n",
       "      <th>mths_since_last_record:0-90</th>\n",
       "      <th>mths_since_last_record:90-120</th>\n",
       "      <th>mths_since_last_record:120-127</th>\n",
       "      <th>mths_since_last_record:&gt;=127</th>\n",
       "      <th>loan_amnt</th>\n",
       "      <th>funded_amnt</th>\n",
       "      <th>int_rate</th>\n",
       "      <th>installment</th>\n",
       "    </tr>\n",
       "  </thead>\n",
       "  <tbody>\n",
       "    <tr>\n",
       "      <th>427211</th>\n",
       "      <td>1</td>\n",
       "      <td>0</td>\n",
       "      <td>0</td>\n",
       "      <td>0</td>\n",
       "      <td>0</td>\n",
       "      <td>0</td>\n",
       "      <td>1</td>\n",
       "      <td>0</td>\n",
       "      <td>0</td>\n",
       "      <td>0</td>\n",
       "      <td>...</td>\n",
       "      <td>0</td>\n",
       "      <td>0</td>\n",
       "      <td>0</td>\n",
       "      <td>0</td>\n",
       "      <td>0</td>\n",
       "      <td>0</td>\n",
       "      <td>24000</td>\n",
       "      <td>24000</td>\n",
       "      <td>8.90</td>\n",
       "      <td>762.08</td>\n",
       "    </tr>\n",
       "    <tr>\n",
       "      <th>206088</th>\n",
       "      <td>0</td>\n",
       "      <td>0</td>\n",
       "      <td>1</td>\n",
       "      <td>0</td>\n",
       "      <td>0</td>\n",
       "      <td>0</td>\n",
       "      <td>1</td>\n",
       "      <td>0</td>\n",
       "      <td>0</td>\n",
       "      <td>0</td>\n",
       "      <td>...</td>\n",
       "      <td>0</td>\n",
       "      <td>0</td>\n",
       "      <td>0</td>\n",
       "      <td>0</td>\n",
       "      <td>0</td>\n",
       "      <td>0</td>\n",
       "      <td>10000</td>\n",
       "      <td>10000</td>\n",
       "      <td>14.33</td>\n",
       "      <td>343.39</td>\n",
       "    </tr>\n",
       "    <tr>\n",
       "      <th>136020</th>\n",
       "      <td>1</td>\n",
       "      <td>0</td>\n",
       "      <td>0</td>\n",
       "      <td>0</td>\n",
       "      <td>0</td>\n",
       "      <td>0</td>\n",
       "      <td>1</td>\n",
       "      <td>0</td>\n",
       "      <td>0</td>\n",
       "      <td>0</td>\n",
       "      <td>...</td>\n",
       "      <td>1</td>\n",
       "      <td>0</td>\n",
       "      <td>0</td>\n",
       "      <td>0</td>\n",
       "      <td>0</td>\n",
       "      <td>0</td>\n",
       "      <td>20425</td>\n",
       "      <td>20425</td>\n",
       "      <td>8.90</td>\n",
       "      <td>648.56</td>\n",
       "    </tr>\n",
       "    <tr>\n",
       "      <th>412305</th>\n",
       "      <td>0</td>\n",
       "      <td>0</td>\n",
       "      <td>0</td>\n",
       "      <td>1</td>\n",
       "      <td>0</td>\n",
       "      <td>0</td>\n",
       "      <td>0</td>\n",
       "      <td>0</td>\n",
       "      <td>0</td>\n",
       "      <td>0</td>\n",
       "      <td>...</td>\n",
       "      <td>0</td>\n",
       "      <td>0</td>\n",
       "      <td>0</td>\n",
       "      <td>0</td>\n",
       "      <td>0</td>\n",
       "      <td>0</td>\n",
       "      <td>17200</td>\n",
       "      <td>17200</td>\n",
       "      <td>16.59</td>\n",
       "      <td>609.73</td>\n",
       "    </tr>\n",
       "    <tr>\n",
       "      <th>36159</th>\n",
       "      <td>0</td>\n",
       "      <td>0</td>\n",
       "      <td>1</td>\n",
       "      <td>0</td>\n",
       "      <td>0</td>\n",
       "      <td>0</td>\n",
       "      <td>1</td>\n",
       "      <td>0</td>\n",
       "      <td>0</td>\n",
       "      <td>0</td>\n",
       "      <td>...</td>\n",
       "      <td>0</td>\n",
       "      <td>0</td>\n",
       "      <td>0</td>\n",
       "      <td>0</td>\n",
       "      <td>0</td>\n",
       "      <td>0</td>\n",
       "      <td>8400</td>\n",
       "      <td>8400</td>\n",
       "      <td>12.84</td>\n",
       "      <td>282.40</td>\n",
       "    </tr>\n",
       "  </tbody>\n",
       "</table>\n",
       "<p>5 rows × 130 columns</p>\n",
       "</div>"
      ],
      "text/plain": [
       "        grade:A  grade:B  grade:C  grade:D  grade:E  grade:F  \\\n",
       "427211        1        0        0        0        0        0   \n",
       "206088        0        0        1        0        0        0   \n",
       "136020        1        0        0        0        0        0   \n",
       "412305        0        0        0        1        0        0   \n",
       "36159         0        0        1        0        0        0   \n",
       "\n",
       "        home_ownership:MORTGAGE  home_ownership:OWN  addr_state:NM_VA  \\\n",
       "427211                        1                   0                 0   \n",
       "206088                        1                   0                 0   \n",
       "136020                        1                   0                 0   \n",
       "412305                        0                   0                 0   \n",
       "36159                         1                   0                 0   \n",
       "\n",
       "        addr_state:OK_TN_MO_LA_MD_NC  ...  mths_since_last_delinq:31-56  \\\n",
       "427211                             0  ...                             0   \n",
       "206088                             0  ...                             0   \n",
       "136020                             0  ...                             1   \n",
       "412305                             0  ...                             0   \n",
       "36159                              0  ...                             0   \n",
       "\n",
       "        mths_since_last_delinq:>=57  mths_since_last_record:0-90  \\\n",
       "427211                            0                            0   \n",
       "206088                            0                            0   \n",
       "136020                            0                            0   \n",
       "412305                            0                            0   \n",
       "36159                             0                            0   \n",
       "\n",
       "        mths_since_last_record:90-120  mths_since_last_record:120-127  \\\n",
       "427211                              0                               0   \n",
       "206088                              0                               0   \n",
       "136020                              0                               0   \n",
       "412305                              0                               0   \n",
       "36159                               0                               0   \n",
       "\n",
       "        mths_since_last_record:>=127  loan_amnt  funded_amnt  int_rate  \\\n",
       "427211                             0      24000        24000      8.90   \n",
       "206088                             0      10000        10000     14.33   \n",
       "136020                             0      20425        20425      8.90   \n",
       "412305                             0      17200        17200     16.59   \n",
       "36159                              0       8400         8400     12.84   \n",
       "\n",
       "        installment  \n",
       "427211       762.08  \n",
       "206088       343.39  \n",
       "136020       648.56  \n",
       "412305       609.73  \n",
       "36159        282.40  \n",
       "\n",
       "[5 rows x 130 columns]"
      ]
     },
     "execution_count": 33,
     "metadata": {},
     "output_type": "execute_result"
    }
   ],
   "source": [
    "input_test.head()"
   ]
  },
  {
   "cell_type": "code",
   "execution_count": 34,
   "id": "7a56005c",
   "metadata": {},
   "outputs": [],
   "source": [
    "y_hat_test=reg.predict(input_test)"
   ]
  },
  {
   "cell_type": "code",
   "execution_count": 35,
   "id": "77a2419f",
   "metadata": {},
   "outputs": [],
   "source": [
    "a=y_hat_test.astype(int)"
   ]
  },
  {
   "cell_type": "code",
   "execution_count": 36,
   "id": "e6ea3d2e",
   "metadata": {},
   "outputs": [],
   "source": [
    "y_hat_test_proba=reg.predict_proba(input_test)"
   ]
  },
  {
   "cell_type": "code",
   "execution_count": 37,
   "id": "fb42afdb",
   "metadata": {},
   "outputs": [
    {
     "data": {
      "text/plain": [
       "array([[0.06086776, 0.93913224],\n",
       "       [0.11056086, 0.88943914],\n",
       "       [0.0682071 , 0.9317929 ],\n",
       "       ...,\n",
       "       [0.07182077, 0.92817923],\n",
       "       [0.05635543, 0.94364457],\n",
       "       [0.04973723, 0.95026277]])"
      ]
     },
     "execution_count": 37,
     "metadata": {},
     "output_type": "execute_result"
    }
   ],
   "source": [
    "y_hat_test_proba"
   ]
  },
  {
   "cell_type": "code",
   "execution_count": 38,
   "id": "e7a23e80",
   "metadata": {},
   "outputs": [
    {
     "data": {
      "text/plain": [
       "array([0.93913224, 0.88943914, 0.9317929 , ..., 0.92817923, 0.94364457,\n",
       "       0.95026277])"
      ]
     },
     "execution_count": 38,
     "metadata": {},
     "output_type": "execute_result"
    }
   ],
   "source": [
    "y_hat_test_proba[: ][: ,1]"
   ]
  },
  {
   "cell_type": "code",
   "execution_count": 39,
   "id": "5b206656",
   "metadata": {},
   "outputs": [],
   "source": [
    "y_hat_test_proba=y_hat_test_proba[: ][:,1]"
   ]
  },
  {
   "cell_type": "code",
   "execution_count": 40,
   "id": "b4d48e8d",
   "metadata": {},
   "outputs": [],
   "source": [
    "loan_data_targets_test_temp=load_data_targets_test"
   ]
  },
  {
   "cell_type": "code",
   "execution_count": 41,
   "id": "4793c5aa",
   "metadata": {},
   "outputs": [],
   "source": [
    "loan_data_targets_test_temp.reset_index(drop=True,inplace=True)"
   ]
  },
  {
   "cell_type": "code",
   "execution_count": 42,
   "id": "20f2e985",
   "metadata": {},
   "outputs": [],
   "source": [
    "df_actual_predicted_probs=pd.concat([loan_data_targets_test_temp,pd.DataFrame(y_hat_test_proba)],axis=1)"
   ]
  },
  {
   "cell_type": "code",
   "execution_count": 43,
   "id": "f6c40f40",
   "metadata": {},
   "outputs": [
    {
     "data": {
      "text/plain": [
       "(373028, 2)"
      ]
     },
     "execution_count": 43,
     "metadata": {},
     "output_type": "execute_result"
    }
   ],
   "source": [
    "df_actual_predicted_probs.shape"
   ]
  },
  {
   "cell_type": "code",
   "execution_count": 44,
   "id": "4311221b",
   "metadata": {},
   "outputs": [],
   "source": [
    "df_actual_predicted_probs.columns=['load_data_target_test','y_hat_test_proba']"
   ]
  },
  {
   "cell_type": "code",
   "execution_count": 45,
   "id": "e9834e2f",
   "metadata": {},
   "outputs": [],
   "source": [
    "df_actual_predicted_probs.index=load_data_inputs_test.index"
   ]
  },
  {
   "cell_type": "code",
   "execution_count": 46,
   "id": "ea0e7b0f",
   "metadata": {},
   "outputs": [
    {
     "data": {
      "text/html": [
       "<div>\n",
       "<style scoped>\n",
       "    .dataframe tbody tr th:only-of-type {\n",
       "        vertical-align: middle;\n",
       "    }\n",
       "\n",
       "    .dataframe tbody tr th {\n",
       "        vertical-align: top;\n",
       "    }\n",
       "\n",
       "    .dataframe thead th {\n",
       "        text-align: right;\n",
       "    }\n",
       "</style>\n",
       "<table border=\"1\" class=\"dataframe\">\n",
       "  <thead>\n",
       "    <tr style=\"text-align: right;\">\n",
       "      <th></th>\n",
       "      <th>load_data_target_test</th>\n",
       "      <th>y_hat_test_proba</th>\n",
       "    </tr>\n",
       "  </thead>\n",
       "  <tbody>\n",
       "    <tr>\n",
       "      <th>427211</th>\n",
       "      <td>1</td>\n",
       "      <td>0.939132</td>\n",
       "    </tr>\n",
       "    <tr>\n",
       "      <th>206088</th>\n",
       "      <td>1</td>\n",
       "      <td>0.889439</td>\n",
       "    </tr>\n",
       "    <tr>\n",
       "      <th>136020</th>\n",
       "      <td>1</td>\n",
       "      <td>0.931793</td>\n",
       "    </tr>\n",
       "    <tr>\n",
       "      <th>412305</th>\n",
       "      <td>1</td>\n",
       "      <td>0.794714</td>\n",
       "    </tr>\n",
       "    <tr>\n",
       "      <th>36159</th>\n",
       "      <td>1</td>\n",
       "      <td>0.890587</td>\n",
       "    </tr>\n",
       "  </tbody>\n",
       "</table>\n",
       "</div>"
      ],
      "text/plain": [
       "       load_data_target_test  y_hat_test_proba\n",
       "427211                     1          0.939132\n",
       "206088                     1          0.889439\n",
       "136020                     1          0.931793\n",
       "412305                     1          0.794714\n",
       "36159                      1          0.890587"
      ]
     },
     "execution_count": 46,
     "metadata": {},
     "output_type": "execute_result"
    }
   ],
   "source": [
    "df_actual_predicted_probs.head()"
   ]
  },
  {
   "cell_type": "code",
   "execution_count": 47,
   "id": "27f7eecb",
   "metadata": {},
   "outputs": [
    {
     "data": {
      "text/plain": [
       "(373028, 2)"
      ]
     },
     "execution_count": 47,
     "metadata": {},
     "output_type": "execute_result"
    }
   ],
   "source": [
    "df_actual_predicted_probs.shape"
   ]
  },
  {
   "cell_type": "code",
   "execution_count": 48,
   "id": "b4ac9a9b",
   "metadata": {},
   "outputs": [],
   "source": [
    "tr=0.9\n",
    "df_actual_predicted_probs['y_hat_test_proba']=np.where(df_actual_predicted_probs['y_hat_test_proba']>tr,1,0)"
   ]
  },
  {
   "cell_type": "code",
   "execution_count": 49,
   "id": "c9105dfc",
   "metadata": {},
   "outputs": [
    {
     "data": {
      "text/html": [
       "<div>\n",
       "<style scoped>\n",
       "    .dataframe tbody tr th:only-of-type {\n",
       "        vertical-align: middle;\n",
       "    }\n",
       "\n",
       "    .dataframe tbody tr th {\n",
       "        vertical-align: top;\n",
       "    }\n",
       "\n",
       "    .dataframe thead th {\n",
       "        text-align: right;\n",
       "    }\n",
       "</style>\n",
       "<table border=\"1\" class=\"dataframe\">\n",
       "  <thead>\n",
       "    <tr style=\"text-align: right;\">\n",
       "      <th>Predicted</th>\n",
       "      <th>0</th>\n",
       "      <th>1</th>\n",
       "    </tr>\n",
       "    <tr>\n",
       "      <th>Actual</th>\n",
       "      <th></th>\n",
       "      <th></th>\n",
       "    </tr>\n",
       "  </thead>\n",
       "  <tbody>\n",
       "    <tr>\n",
       "      <th>0</th>\n",
       "      <td>4526</td>\n",
       "      <td>5664</td>\n",
       "    </tr>\n",
       "    <tr>\n",
       "      <th>1</th>\n",
       "      <td>37011</td>\n",
       "      <td>46056</td>\n",
       "    </tr>\n",
       "  </tbody>\n",
       "</table>\n",
       "</div>"
      ],
      "text/plain": [
       "Predicted      0      1\n",
       "Actual                 \n",
       "0           4526   5664\n",
       "1          37011  46056"
      ]
     },
     "execution_count": 49,
     "metadata": {},
     "output_type": "execute_result"
    }
   ],
   "source": [
    "pd.crosstab(df_actual_predicted_probs['load_data_target_test'],df_actual_predicted_probs['y_hat_test_proba'],rownames=['Actual'],colnames=['Predicted'])"
   ]
  },
  {
   "cell_type": "code",
   "execution_count": 50,
   "id": "e0e3c809",
   "metadata": {},
   "outputs": [],
   "source": [
    "confusion_matrix = pd.crosstab(df_actual_predicted_probs['load_data_target_test'],df_actual_predicted_probs['y_hat_test_proba'],rownames=['Actual'],colnames=['Predicted'])"
   ]
  },
  {
   "cell_type": "code",
   "execution_count": 51,
   "id": "0e28b441",
   "metadata": {},
   "outputs": [
    {
     "data": {
      "text/plain": [
       "<AxesSubplot:xlabel='Predicted', ylabel='Actual'>"
      ]
     },
     "execution_count": 51,
     "metadata": {},
     "output_type": "execute_result"
    },
    {
     "data": {
      "image/png": "[encoded data removed]",
      "text/plain": [
       "<Figure size 432x288 with 2 Axes>"
      ]
     },
     "metadata": {
      "needs_background": "light"
     },
     "output_type": "display_data"
    }
   ],
   "source": [
    "sn.heatmap(confusion_matrix,annot=True)"
   ]
  },
  {
   "cell_type": "code",
   "execution_count": 52,
   "id": "b1398198",
   "metadata": {},
   "outputs": [],
   "source": [
    "## model building function"
   ]
  },
  {
   "cell_type": "code",
   "execution_count": 53,
   "id": "57e16a06",
   "metadata": {},
   "outputs": [],
   "source": [
    "def x_tr_model(model,x_train,y_train,x_test,y_test,tr):\n",
    "    model.fit(x_train,y_train)\n",
    "    pred_y=model.predict(x_test)\n",
    "    y_hat_test_proba=model.predict_proba(x_train) ##\n",
    "    y_hat_test_proba=y_hat_test_proba[:][:,1]\n",
    "    load_data_targets_test_temp=y_test\n",
    "    loan_data_targets_test_temp.reset_index(drop=True,inplace=True)\n",
    "    df_actual_predicted_probs=pd.concat([loan_data_targets_test_temp,pd.DataFrame(y_hat_test_proba)],axis=1)\n",
    "    df_actual_predicted_probs.columns=['load_data_target_test','y_hat_test_proba']\n",
    "    df_actual_predicted_probs.index=load_data_inputs_test.index\n",
    "    df_actual_predicted_probs['y_hat_test_proba']=np.where(df_actual_predicted_probs['y_hat_test_proba']>tr,1,0)\n",
    "    return pd.crosstab(df_actual_predicted_probs['load_data_target_test'],df_actual_predicted_probs['y_hat_test_proba'],rownames=['Actual'],colnames=['Predicted'])"
   ]
  },
  {
   "cell_type": "code",
   "execution_count": 54,
   "id": "54c61666",
   "metadata": {},
   "outputs": [],
   "source": [
    "crosstab=x_tr_model(LogisticRegression(max_iter=200),input_train,load_data_targets_train,input_test,load_data_targets_test,0.9)"
   ]
  },
  {
   "cell_type": "code",
   "execution_count": 55,
   "id": "2a39d74b",
   "metadata": {},
   "outputs": [],
   "source": [
    "true_positive = crosstab[1][1]"
   ]
  },
  {
   "cell_type": "code",
   "execution_count": 56,
   "id": "d41a2d77",
   "metadata": {},
   "outputs": [],
   "source": [
    "true_negative = crosstab[0][0]"
   ]
  },
  {
   "cell_type": "code",
   "execution_count": 57,
   "id": "979b057b",
   "metadata": {},
   "outputs": [],
   "source": [
    "false_positive = crosstab[0][1]"
   ]
  },
  {
   "cell_type": "code",
   "execution_count": 58,
   "id": "b5d72b65",
   "metadata": {},
   "outputs": [],
   "source": [
    "false_negative = crosstab[1][0]"
   ]
  },
  {
   "cell_type": "code",
   "execution_count": 59,
   "id": "27f50770",
   "metadata": {},
   "outputs": [],
   "source": [
    "accuracy = (true_positive + true_negative) / (true_positive + true_negative + false_positive + false_negative)"
   ]
  },
  {
   "cell_type": "code",
   "execution_count": 60,
   "id": "c8944ea9",
   "metadata": {},
   "outputs": [
    {
     "name": "stdout",
     "output_type": "stream",
     "text": [
      "Accuracy of LogisticRegression model: 54.239%\n"
     ]
    }
   ],
   "source": [
    "print('Accuracy of LogisticRegression model: '+str(round(accuracy*100,3))+'%')"
   ]
  },
  {
   "cell_type": "code",
   "execution_count": 61,
   "id": "820b550d",
   "metadata": {},
   "outputs": [
    {
     "data": {
      "text/plain": [
       "<AxesSubplot:xlabel='Predicted', ylabel='Actual'>"
      ]
     },
     "execution_count": 61,
     "metadata": {},
     "output_type": "execute_result"
    },
    {
     "data": {
      "image/png": "[encoded data removed]",
      "text/plain": [
       "<Figure size 432x288 with 2 Axes>"
      ]
     },
     "metadata": {
      "needs_background": "light"
     },
     "output_type": "display_data"
    }
   ],
   "source": [
    "sn.heatmap(crosstab,annot=True,fmt='d')"
   ]
  },
  {
   "cell_type": "code",
   "execution_count": null,
   "id": "ac6bf016",
   "metadata": {},
   "outputs": [],
   "source": []
  },
  {
   "cell_type": "code",
   "execution_count": null,
   "id": "f89e87e8",
   "metadata": {},
   "outputs": [],
   "source": []
  },
  {
   "cell_type": "code",
   "execution_count": 62,
   "id": "958557b6",
   "metadata": {},
   "outputs": [],
   "source": [
    "from sklearn.ensemble import RandomForestClassifier\n",
    "from sklearn.tree import DecisionTreeClassifier\n",
    "from sklearn.ensemble import GradientBoostingClassifier"
   ]
  },
  {
   "cell_type": "code",
   "execution_count": 63,
   "id": "94ee3edf",
   "metadata": {},
   "outputs": [],
   "source": [
    "crosstab=x_tr_model(RandomForestClassifier(),input_train,load_data_targets_train,input_test,load_data_targets_test,0.8)"
   ]
  },
  {
   "cell_type": "code",
   "execution_count": 64,
   "id": "9953f315",
   "metadata": {},
   "outputs": [],
   "source": [
    "true_positive = crosstab[1][1]"
   ]
  },
  {
   "cell_type": "code",
   "execution_count": 65,
   "id": "908f096e",
   "metadata": {},
   "outputs": [],
   "source": [
    "true_negative = crosstab[0][0]"
   ]
  },
  {
   "cell_type": "code",
   "execution_count": 66,
   "id": "401aa9a3",
   "metadata": {},
   "outputs": [],
   "source": [
    "false_positive = crosstab[0][1]"
   ]
  },
  {
   "cell_type": "code",
   "execution_count": 67,
   "id": "e366b979",
   "metadata": {},
   "outputs": [],
   "source": [
    "false_negative = crosstab[1][0]"
   ]
  },
  {
   "cell_type": "code",
   "execution_count": 68,
   "id": "8fccb519",
   "metadata": {},
   "outputs": [],
   "source": [
    "accuracy = (true_positive + true_negative) / (true_positive + true_negative + false_positive + false_negative)"
   ]
  },
  {
   "cell_type": "code",
   "execution_count": 69,
   "id": "97f93183",
   "metadata": {},
   "outputs": [
    {
     "name": "stdout",
     "output_type": "stream",
     "text": [
      "Accuracy of RandomForestClassifier model: 80.334%\n"
     ]
    }
   ],
   "source": [
    "print('Accuracy of RandomForestClassifier model: '+str(round(accuracy*100,3))+'%')"
   ]
  },
  {
   "cell_type": "code",
   "execution_count": 70,
   "id": "f9b5b4dc",
   "metadata": {},
   "outputs": [
    {
     "data": {
      "text/plain": [
       "<AxesSubplot:xlabel='Predicted', ylabel='Actual'>"
      ]
     },
     "execution_count": 70,
     "metadata": {},
     "output_type": "execute_result"
    },
    {
     "data": {
      "image/png": "[encoded data removed]",
      "text/plain": [
       "<Figure size 432x288 with 2 Axes>"
      ]
     },
     "metadata": {
      "needs_background": "light"
     },
     "output_type": "display_data"
    }
   ],
   "source": [
    "sn.heatmap(crosstab,annot=True,fmt='d')"
   ]
  },
  {
   "cell_type": "code",
   "execution_count": null,
   "id": "046681b3",
   "metadata": {},
   "outputs": [],
   "source": []
  },
  {
   "cell_type": "code",
   "execution_count": 71,
   "id": "cf514b08",
   "metadata": {},
   "outputs": [],
   "source": [
    "crosstab=x_tr_model(DecisionTreeClassifier(),input_train,load_data_targets_train,input_test,load_data_targets_test,0.8)"
   ]
  },
  {
   "cell_type": "code",
   "execution_count": 72,
   "id": "e7ff230c",
   "metadata": {},
   "outputs": [],
   "source": [
    "true_positive = crosstab[1][1]"
   ]
  },
  {
   "cell_type": "code",
   "execution_count": 73,
   "id": "62c721ee",
   "metadata": {},
   "outputs": [],
   "source": [
    "true_negative = crosstab[0][0]"
   ]
  },
  {
   "cell_type": "code",
   "execution_count": 74,
   "id": "1ce65285",
   "metadata": {},
   "outputs": [],
   "source": [
    "false_positive = crosstab[0][1]"
   ]
  },
  {
   "cell_type": "code",
   "execution_count": 75,
   "id": "91b66356",
   "metadata": {},
   "outputs": [],
   "source": [
    "false_negative = crosstab[1][0]"
   ]
  },
  {
   "cell_type": "code",
   "execution_count": 76,
   "id": "085253d5",
   "metadata": {},
   "outputs": [],
   "source": [
    "accuracy = (true_positive + true_negative) / (true_positive + true_negative + false_positive + false_negative)"
   ]
  },
  {
   "cell_type": "code",
   "execution_count": 77,
   "id": "7461274b",
   "metadata": {},
   "outputs": [
    {
     "name": "stdout",
     "output_type": "stream",
     "text": [
      "Accuracy of DecisionTreeClassifier model: 80.366%\n"
     ]
    }
   ],
   "source": [
    "print('Accuracy of DecisionTreeClassifier model: '+str(round(accuracy*100,3))+'%')"
   ]
  },
  {
   "cell_type": "code",
   "execution_count": 78,
   "id": "628d70f4",
   "metadata": {},
   "outputs": [
    {
     "data": {
      "text/plain": [
       "<AxesSubplot:xlabel='Predicted', ylabel='Actual'>"
      ]
     },
     "execution_count": 78,
     "metadata": {},
     "output_type": "execute_result"
    },
    {
     "data": {
      "image/png": "[encoded data removed]",
      "text/plain": [
       "<Figure size 432x288 with 2 Axes>"
      ]
     },
     "metadata": {
      "needs_background": "light"
     },
     "output_type": "display_data"
    }
   ],
   "source": [
    "sn.heatmap(crosstab,annot=True,fmt='d')"
   ]
  },
  {
   "cell_type": "code",
   "execution_count": null,
   "id": "b0e0b02d",
   "metadata": {},
   "outputs": [],
   "source": []
  },
  {
   "cell_type": "code",
   "execution_count": 79,
   "id": "091a5e71",
   "metadata": {},
   "outputs": [],
   "source": [
    "crosstab=x_tr_model(GradientBoostingClassifier(),input_train,load_data_targets_train,input_test,load_data_targets_test,0.8)"
   ]
  },
  {
   "cell_type": "code",
   "execution_count": 80,
   "id": "c4a36496",
   "metadata": {},
   "outputs": [],
   "source": [
    "true_positive = crosstab[1][1]"
   ]
  },
  {
   "cell_type": "code",
   "execution_count": 81,
   "id": "cc3635e8",
   "metadata": {},
   "outputs": [],
   "source": [
    "true_negative = crosstab[0][0]"
   ]
  },
  {
   "cell_type": "code",
   "execution_count": 82,
   "id": "66c2a3af",
   "metadata": {},
   "outputs": [],
   "source": [
    "false_positive = crosstab[0][1]"
   ]
  },
  {
   "cell_type": "code",
   "execution_count": 83,
   "id": "a986fcd6",
   "metadata": {},
   "outputs": [],
   "source": [
    "false_negative = crosstab[1][0]"
   ]
  },
  {
   "cell_type": "code",
   "execution_count": 84,
   "id": "1a5756bd",
   "metadata": {},
   "outputs": [],
   "source": [
    "accuracy = (true_positive + true_negative) / (true_positive + true_negative + false_positive + false_negative)"
   ]
  },
  {
   "cell_type": "code",
   "execution_count": 85,
   "id": "dbbafe91",
   "metadata": {},
   "outputs": [
    {
     "name": "stdout",
     "output_type": "stream",
     "text": [
      "Accuracy of GradientBoostingClassifier model: 81.836%\n"
     ]
    }
   ],
   "source": [
    "print('Accuracy of GradientBoostingClassifier model: '+str(round(accuracy*100,3))+'%')"
   ]
  },
  {
   "cell_type": "code",
   "execution_count": 86,
   "id": "b158c842",
   "metadata": {},
   "outputs": [
    {
     "data": {
      "text/plain": [
       "<AxesSubplot:xlabel='Predicted', ylabel='Actual'>"
      ]
     },
     "execution_count": 86,
     "metadata": {},
     "output_type": "execute_result"
    },
    {
     "data": {
      "image/png": "[encoded data removed]",
      "text/plain": [
       "<Figure size 432x288 with 2 Axes>"
      ]
     },
     "metadata": {
      "needs_background": "light"
     },
     "output_type": "display_data"
    }
   ],
   "source": [
    "sn.heatmap(crosstab,annot=True,fmt='d')"
   ]
  },
  {
   "cell_type": "code",
   "execution_count": null,
   "id": "4b20cdf6",
   "metadata": {},
   "outputs": [],
   "source": []
  },
  {
   "cell_type": "markdown",
   "id": "e204045b",
   "metadata": {},
   "source": [
    "# Hybrid Model Random Forest Classifier+Gradient Boost Classifier"
   ]
  },
  {
   "cell_type": "code",
   "execution_count": 87,
   "id": "579ebcc0",
   "metadata": {},
   "outputs": [
    {
     "data": {
      "text/html": [
       "<style>#sk-container-id-2 {color: black;background-color: white;}#sk-container-id-2 pre{padding: 0;}#sk-container-id-2 div.sk-toggleable {background-color: white;}#sk-container-id-2 label.sk-toggleable__label {cursor: pointer;display: block;width: 100%;margin-bottom: 0;padding: 0.3em;box-sizing: border-box;text-align: center;}#sk-container-id-2 label.sk-toggleable__label-arrow:before {content: \"▸\";float: left;margin-right: 0.25em;color: #696969;}#sk-container-id-2 label.sk-toggleable__label-arrow:hover:before {color: black;}#sk-container-id-2 div.sk-estimator:hover label.sk-toggleable__label-arrow:before {color: black;}#sk-container-id-2 div.sk-toggleable__content {max-height: 0;max-width: 0;overflow: hidden;text-align: left;background-color: #f0f8ff;}#sk-container-id-2 div.sk-toggleable__content pre {margin: 0.2em;color: black;border-radius: 0.25em;background-color: #f0f8ff;}#sk-container-id-2 input.sk-toggleable__control:checked~div.sk-toggleable__content {max-height: 200px;max-width: 100%;overflow: auto;}#sk-container-id-2 input.sk-toggleable__control:checked~label.sk-toggleable__label-arrow:before {content: \"▾\";}#sk-container-id-2 div.sk-estimator input.sk-toggleable__control:checked~label.sk-toggleable__label {background-color: #d4ebff;}#sk-container-id-2 div.sk-label input.sk-toggleable__control:checked~label.sk-toggleable__label {background-color: #d4ebff;}#sk-container-id-2 input.sk-hidden--visually {border: 0;clip: rect(1px 1px 1px 1px);clip: rect(1px, 1px, 1px, 1px);height: 1px;margin: -1px;overflow: hidden;padding: 0;position: absolute;width: 1px;}#sk-container-id-2 div.sk-estimator {font-family: monospace;background-color: #f0f8ff;border: 1px dotted black;border-radius: 0.25em;box-sizing: border-box;margin-bottom: 0.5em;}#sk-container-id-2 div.sk-estimator:hover {background-color: #d4ebff;}#sk-container-id-2 div.sk-parallel-item::after {content: \"\";width: 100%;border-bottom: 1px solid gray;flex-grow: 1;}#sk-container-id-2 div.sk-label:hover label.sk-toggleable__label {background-color: #d4ebff;}#sk-container-id-2 div.sk-serial::before {content: \"\";position: absolute;border-left: 1px solid gray;box-sizing: border-box;top: 0;bottom: 0;left: 50%;z-index: 0;}#sk-container-id-2 div.sk-serial {display: flex;flex-direction: column;align-items: center;background-color: white;padding-right: 0.2em;padding-left: 0.2em;position: relative;}#sk-container-id-2 div.sk-item {position: relative;z-index: 1;}#sk-container-id-2 div.sk-parallel {display: flex;align-items: stretch;justify-content: center;background-color: white;position: relative;}#sk-container-id-2 div.sk-item::before, #sk-container-id-2 div.sk-parallel-item::before {content: \"\";position: absolute;border-left: 1px solid gray;box-sizing: border-box;top: 0;bottom: 0;left: 50%;z-index: -1;}#sk-container-id-2 div.sk-parallel-item {display: flex;flex-direction: column;z-index: 1;position: relative;background-color: white;}#sk-container-id-2 div.sk-parallel-item:first-child::after {align-self: flex-end;width: 50%;}#sk-container-id-2 div.sk-parallel-item:last-child::after {align-self: flex-start;width: 50%;}#sk-container-id-2 div.sk-parallel-item:only-child::after {width: 0;}#sk-container-id-2 div.sk-dashed-wrapped {border: 1px dashed gray;margin: 0 0.4em 0.5em 0.4em;box-sizing: border-box;padding-bottom: 0.4em;background-color: white;}#sk-container-id-2 div.sk-label label {font-family: monospace;font-weight: bold;display: inline-block;line-height: 1.2em;}#sk-container-id-2 div.sk-label-container {text-align: center;}#sk-container-id-2 div.sk-container {/* jupyter's `normalize.less` sets `[hidden] { display: none; }` but bootstrap.min.css set `[hidden] { display: none !important; }` so we also need the `!important` here to be able to override the default hidden behavior on the sphinx rendered scikit-learn.org. See: https://github.com/scikit-learn/scikit-learn/issues/21755 */display: inline-block !important;position: relative;}#sk-container-id-2 div.sk-text-repr-fallback {display: none;}</style><div id=\"sk-container-id-2\" class=\"sk-top-container\"><div class=\"sk-text-repr-fallback\"><pre>RandomForestClassifier()</pre><b>In a Jupyter environment, please rerun this cell to show the HTML representation or trust the notebook. <br />On GitHub, the HTML representation is unable to render, please try loading this page with nbviewer.org.</b></div><div class=\"sk-container\" hidden><div class=\"sk-item\"><div class=\"sk-estimator sk-toggleable\"><input class=\"sk-toggleable__control sk-hidden--visually\" id=\"sk-estimator-id-2\" type=\"checkbox\" checked><label for=\"sk-estimator-id-2\" class=\"sk-toggleable__label sk-toggleable__label-arrow\">RandomForestClassifier</label><div class=\"sk-toggleable__content\"><pre>RandomForestClassifier()</pre></div></div></div></div></div>"
      ],
      "text/plain": [
       "RandomForestClassifier()"
      ]
     },
     "execution_count": 87,
     "metadata": {},
     "output_type": "execute_result"
    }
   ],
   "source": [
    "rf = RandomForestClassifier()\n",
    "rf.fit(input_train, load_data_targets_train)"
   ]
  },
  {
   "cell_type": "code",
   "execution_count": 88,
   "id": "963a2b65",
   "metadata": {},
   "outputs": [],
   "source": [
    "rf_predictions_train = rf.predict_proba(input_train)"
   ]
  },
  {
   "cell_type": "code",
   "execution_count": 89,
   "id": "86545598",
   "metadata": {},
   "outputs": [
    {
     "data": {
      "text/plain": [
       "array([[0.02, 0.98],\n",
       "       [0.11, 0.89],\n",
       "       [0.  , 1.  ],\n",
       "       ...,\n",
       "       [0.02, 0.98],\n",
       "       [0.04, 0.96],\n",
       "       [0.04, 0.96]])"
      ]
     },
     "execution_count": 89,
     "metadata": {},
     "output_type": "execute_result"
    }
   ],
   "source": [
    "rf_predictions_train"
   ]
  },
  {
   "cell_type": "code",
   "execution_count": 90,
   "id": "553e3cf1",
   "metadata": {},
   "outputs": [],
   "source": [
    "new_x_train = np.concatenate((input_train, rf_predictions_train), axis=1)"
   ]
  },
  {
   "cell_type": "code",
   "execution_count": 91,
   "id": "e5996aef",
   "metadata": {},
   "outputs": [
    {
     "data": {
      "text/html": [
       "<style>#sk-container-id-3 {color: black;background-color: white;}#sk-container-id-3 pre{padding: 0;}#sk-container-id-3 div.sk-toggleable {background-color: white;}#sk-container-id-3 label.sk-toggleable__label {cursor: pointer;display: block;width: 100%;margin-bottom: 0;padding: 0.3em;box-sizing: border-box;text-align: center;}#sk-container-id-3 label.sk-toggleable__label-arrow:before {content: \"▸\";float: left;margin-right: 0.25em;color: #696969;}#sk-container-id-3 label.sk-toggleable__label-arrow:hover:before {color: black;}#sk-container-id-3 div.sk-estimator:hover label.sk-toggleable__label-arrow:before {color: black;}#sk-container-id-3 div.sk-toggleable__content {max-height: 0;max-width: 0;overflow: hidden;text-align: left;background-color: #f0f8ff;}#sk-container-id-3 div.sk-toggleable__content pre {margin: 0.2em;color: black;border-radius: 0.25em;background-color: #f0f8ff;}#sk-container-id-3 input.sk-toggleable__control:checked~div.sk-toggleable__content {max-height: 200px;max-width: 100%;overflow: auto;}#sk-container-id-3 input.sk-toggleable__control:checked~label.sk-toggleable__label-arrow:before {content: \"▾\";}#sk-container-id-3 div.sk-estimator input.sk-toggleable__control:checked~label.sk-toggleable__label {background-color: #d4ebff;}#sk-container-id-3 div.sk-label input.sk-toggleable__control:checked~label.sk-toggleable__label {background-color: #d4ebff;}#sk-container-id-3 input.sk-hidden--visually {border: 0;clip: rect(1px 1px 1px 1px);clip: rect(1px, 1px, 1px, 1px);height: 1px;margin: -1px;overflow: hidden;padding: 0;position: absolute;width: 1px;}#sk-container-id-3 div.sk-estimator {font-family: monospace;background-color: #f0f8ff;border: 1px dotted black;border-radius: 0.25em;box-sizing: border-box;margin-bottom: 0.5em;}#sk-container-id-3 div.sk-estimator:hover {background-color: #d4ebff;}#sk-container-id-3 div.sk-parallel-item::after {content: \"\";width: 100%;border-bottom: 1px solid gray;flex-grow: 1;}#sk-container-id-3 div.sk-label:hover label.sk-toggleable__label {background-color: #d4ebff;}#sk-container-id-3 div.sk-serial::before {content: \"\";position: absolute;border-left: 1px solid gray;box-sizing: border-box;top: 0;bottom: 0;left: 50%;z-index: 0;}#sk-container-id-3 div.sk-serial {display: flex;flex-direction: column;align-items: center;background-color: white;padding-right: 0.2em;padding-left: 0.2em;position: relative;}#sk-container-id-3 div.sk-item {position: relative;z-index: 1;}#sk-container-id-3 div.sk-parallel {display: flex;align-items: stretch;justify-content: center;background-color: white;position: relative;}#sk-container-id-3 div.sk-item::before, #sk-container-id-3 div.sk-parallel-item::before {content: \"\";position: absolute;border-left: 1px solid gray;box-sizing: border-box;top: 0;bottom: 0;left: 50%;z-index: -1;}#sk-container-id-3 div.sk-parallel-item {display: flex;flex-direction: column;z-index: 1;position: relative;background-color: white;}#sk-container-id-3 div.sk-parallel-item:first-child::after {align-self: flex-end;width: 50%;}#sk-container-id-3 div.sk-parallel-item:last-child::after {align-self: flex-start;width: 50%;}#sk-container-id-3 div.sk-parallel-item:only-child::after {width: 0;}#sk-container-id-3 div.sk-dashed-wrapped {border: 1px dashed gray;margin: 0 0.4em 0.5em 0.4em;box-sizing: border-box;padding-bottom: 0.4em;background-color: white;}#sk-container-id-3 div.sk-label label {font-family: monospace;font-weight: bold;display: inline-block;line-height: 1.2em;}#sk-container-id-3 div.sk-label-container {text-align: center;}#sk-container-id-3 div.sk-container {/* jupyter's `normalize.less` sets `[hidden] { display: none; }` but bootstrap.min.css set `[hidden] { display: none !important; }` so we also need the `!important` here to be able to override the default hidden behavior on the sphinx rendered scikit-learn.org. See: https://github.com/scikit-learn/scikit-learn/issues/21755 */display: inline-block !important;position: relative;}#sk-container-id-3 div.sk-text-repr-fallback {display: none;}</style><div id=\"sk-container-id-3\" class=\"sk-top-container\"><div class=\"sk-text-repr-fallback\"><pre>GradientBoostingClassifier()</pre><b>In a Jupyter environment, please rerun this cell to show the HTML representation or trust the notebook. <br />On GitHub, the HTML representation is unable to render, please try loading this page with nbviewer.org.</b></div><div class=\"sk-container\" hidden><div class=\"sk-item\"><div class=\"sk-estimator sk-toggleable\"><input class=\"sk-toggleable__control sk-hidden--visually\" id=\"sk-estimator-id-3\" type=\"checkbox\" checked><label for=\"sk-estimator-id-3\" class=\"sk-toggleable__label sk-toggleable__label-arrow\">GradientBoostingClassifier</label><div class=\"sk-toggleable__content\"><pre>GradientBoostingClassifier()</pre></div></div></div></div></div>"
      ],
      "text/plain": [
       "GradientBoostingClassifier()"
      ]
     },
     "execution_count": 91,
     "metadata": {},
     "output_type": "execute_result"
    }
   ],
   "source": [
    "gb = GradientBoostingClassifier()\n",
    "gb.fit(new_x_train, load_data_targets_train)"
   ]
  },
  {
   "cell_type": "code",
   "execution_count": 92,
   "id": "bd8a8b29",
   "metadata": {},
   "outputs": [],
   "source": [
    "rf_predictions_test = rf.predict_proba(input_test)\n",
    "new_x_test = np.concatenate((input_test, rf_predictions_test), axis=1)\n",
    "hybrid_predictions = gb.predict(new_x_test)"
   ]
  },
  {
   "cell_type": "code",
   "execution_count": 93,
   "id": "6d3eda17",
   "metadata": {},
   "outputs": [],
   "source": [
    "rf_predictions_test=rf_predictions_test[: ][:,1]"
   ]
  },
  {
   "cell_type": "code",
   "execution_count": 94,
   "id": "45c34ab3",
   "metadata": {},
   "outputs": [],
   "source": [
    "rf_predictions_test_df=pd.DataFrame(rf_predictions_test)"
   ]
  },
  {
   "cell_type": "code",
   "execution_count": 95,
   "id": "c841c1da",
   "metadata": {},
   "outputs": [
    {
     "data": {
      "text/html": [
       "<div>\n",
       "<style scoped>\n",
       "    .dataframe tbody tr th:only-of-type {\n",
       "        vertical-align: middle;\n",
       "    }\n",
       "\n",
       "    .dataframe tbody tr th {\n",
       "        vertical-align: top;\n",
       "    }\n",
       "\n",
       "    .dataframe thead th {\n",
       "        text-align: right;\n",
       "    }\n",
       "</style>\n",
       "<table border=\"1\" class=\"dataframe\">\n",
       "  <thead>\n",
       "    <tr style=\"text-align: right;\">\n",
       "      <th></th>\n",
       "      <th>0</th>\n",
       "    </tr>\n",
       "  </thead>\n",
       "  <tbody>\n",
       "    <tr>\n",
       "      <th>0</th>\n",
       "      <td>0.98</td>\n",
       "    </tr>\n",
       "    <tr>\n",
       "      <th>1</th>\n",
       "      <td>0.89</td>\n",
       "    </tr>\n",
       "    <tr>\n",
       "      <th>2</th>\n",
       "      <td>1.00</td>\n",
       "    </tr>\n",
       "    <tr>\n",
       "      <th>3</th>\n",
       "      <td>0.32</td>\n",
       "    </tr>\n",
       "    <tr>\n",
       "      <th>4</th>\n",
       "      <td>0.29</td>\n",
       "    </tr>\n",
       "    <tr>\n",
       "      <th>...</th>\n",
       "      <td>...</td>\n",
       "    </tr>\n",
       "    <tr>\n",
       "      <th>373023</th>\n",
       "      <td>0.98</td>\n",
       "    </tr>\n",
       "    <tr>\n",
       "      <th>373024</th>\n",
       "      <td>0.96</td>\n",
       "    </tr>\n",
       "    <tr>\n",
       "      <th>373025</th>\n",
       "      <td>0.98</td>\n",
       "    </tr>\n",
       "    <tr>\n",
       "      <th>373026</th>\n",
       "      <td>0.96</td>\n",
       "    </tr>\n",
       "    <tr>\n",
       "      <th>373027</th>\n",
       "      <td>0.96</td>\n",
       "    </tr>\n",
       "  </tbody>\n",
       "</table>\n",
       "<p>373028 rows × 1 columns</p>\n",
       "</div>"
      ],
      "text/plain": [
       "           0\n",
       "0       0.98\n",
       "1       0.89\n",
       "2       1.00\n",
       "3       0.32\n",
       "4       0.29\n",
       "...      ...\n",
       "373023  0.98\n",
       "373024  0.96\n",
       "373025  0.98\n",
       "373026  0.96\n",
       "373027  0.96\n",
       "\n",
       "[373028 rows x 1 columns]"
      ]
     },
     "execution_count": 95,
     "metadata": {},
     "output_type": "execute_result"
    }
   ],
   "source": [
    "rf_predictions_test_df"
   ]
  },
  {
   "cell_type": "code",
   "execution_count": 96,
   "id": "bbf5149a",
   "metadata": {},
   "outputs": [],
   "source": [
    "loan_data_targets_test_temp=load_data_targets_test"
   ]
  },
  {
   "cell_type": "code",
   "execution_count": 97,
   "id": "7e2dc6bc",
   "metadata": {},
   "outputs": [],
   "source": [
    "loan_data_targets_test_temp.reset_index(drop=True,inplace=True)"
   ]
  },
  {
   "cell_type": "code",
   "execution_count": 98,
   "id": "dc9b467a",
   "metadata": {},
   "outputs": [],
   "source": [
    "df_actual_predicted_probs=pd.concat([loan_data_targets_test_temp,pd.DataFrame(rf_predictions_test)],axis=1)"
   ]
  },
  {
   "cell_type": "code",
   "execution_count": 99,
   "id": "c906e7a7",
   "metadata": {},
   "outputs": [],
   "source": [
    "df_actual_predicted_probs.columns=['load_data_target_test','predicted']"
   ]
  },
  {
   "cell_type": "code",
   "execution_count": 100,
   "id": "18d9fd57",
   "metadata": {},
   "outputs": [],
   "source": [
    "df_actual_predicted_probs.index=load_data_inputs_test.index"
   ]
  },
  {
   "cell_type": "code",
   "execution_count": 101,
   "id": "7994a931",
   "metadata": {},
   "outputs": [
    {
     "data": {
      "text/html": [
       "<div>\n",
       "<style scoped>\n",
       "    .dataframe tbody tr th:only-of-type {\n",
       "        vertical-align: middle;\n",
       "    }\n",
       "\n",
       "    .dataframe tbody tr th {\n",
       "        vertical-align: top;\n",
       "    }\n",
       "\n",
       "    .dataframe thead th {\n",
       "        text-align: right;\n",
       "    }\n",
       "</style>\n",
       "<table border=\"1\" class=\"dataframe\">\n",
       "  <thead>\n",
       "    <tr style=\"text-align: right;\">\n",
       "      <th></th>\n",
       "      <th>load_data_target_test</th>\n",
       "      <th>predicted</th>\n",
       "    </tr>\n",
       "  </thead>\n",
       "  <tbody>\n",
       "    <tr>\n",
       "      <th>427211</th>\n",
       "      <td>1</td>\n",
       "      <td>0.98</td>\n",
       "    </tr>\n",
       "    <tr>\n",
       "      <th>206088</th>\n",
       "      <td>1</td>\n",
       "      <td>0.89</td>\n",
       "    </tr>\n",
       "    <tr>\n",
       "      <th>136020</th>\n",
       "      <td>1</td>\n",
       "      <td>1.00</td>\n",
       "    </tr>\n",
       "    <tr>\n",
       "      <th>412305</th>\n",
       "      <td>1</td>\n",
       "      <td>0.32</td>\n",
       "    </tr>\n",
       "    <tr>\n",
       "      <th>36159</th>\n",
       "      <td>1</td>\n",
       "      <td>0.29</td>\n",
       "    </tr>\n",
       "  </tbody>\n",
       "</table>\n",
       "</div>"
      ],
      "text/plain": [
       "       load_data_target_test  predicted\n",
       "427211                     1       0.98\n",
       "206088                     1       0.89\n",
       "136020                     1       1.00\n",
       "412305                     1       0.32\n",
       "36159                      1       0.29"
      ]
     },
     "execution_count": 101,
     "metadata": {},
     "output_type": "execute_result"
    }
   ],
   "source": [
    "df_actual_predicted_probs.head()"
   ]
  },
  {
   "cell_type": "code",
   "execution_count": 102,
   "id": "bc88b39a",
   "metadata": {},
   "outputs": [
    {
     "data": {
      "text/plain": [
       "(373028, 2)"
      ]
     },
     "execution_count": 102,
     "metadata": {},
     "output_type": "execute_result"
    }
   ],
   "source": [
    "df_actual_predicted_probs.shape"
   ]
  },
  {
   "cell_type": "code",
   "execution_count": 103,
   "id": "cfbcf400",
   "metadata": {},
   "outputs": [],
   "source": [
    "tr=0.8\n",
    "df_actual_predicted_probs['predicted']=np.where(df_actual_predicted_probs['predicted']>tr,1,0)"
   ]
  },
  {
   "cell_type": "code",
   "execution_count": 104,
   "id": "30d184da",
   "metadata": {},
   "outputs": [],
   "source": [
    "crosstab = pd.crosstab(df_actual_predicted_probs['load_data_target_test'],df_actual_predicted_probs['predicted'],rownames=['Actual'],colnames=['Predicted'])"
   ]
  },
  {
   "cell_type": "code",
   "execution_count": 105,
   "id": "934b12c8",
   "metadata": {},
   "outputs": [],
   "source": [
    "true_positive = crosstab[1][1]"
   ]
  },
  {
   "cell_type": "code",
   "execution_count": 106,
   "id": "dcf98493",
   "metadata": {},
   "outputs": [],
   "source": [
    "true_negative = crosstab[0][0]"
   ]
  },
  {
   "cell_type": "code",
   "execution_count": 107,
   "id": "2d78a8d1",
   "metadata": {},
   "outputs": [],
   "source": [
    "false_positive = crosstab[0][1]"
   ]
  },
  {
   "cell_type": "code",
   "execution_count": 108,
   "id": "f1ea7d89",
   "metadata": {},
   "outputs": [],
   "source": [
    "false_negative = crosstab[1][0]"
   ]
  },
  {
   "cell_type": "code",
   "execution_count": 109,
   "id": "2a98f77f",
   "metadata": {},
   "outputs": [],
   "source": [
    "accuracy = (true_positive + true_negative) / (true_positive + true_negative + false_positive + false_negative)"
   ]
  },
  {
   "cell_type": "code",
   "execution_count": 110,
   "id": "6e7828a4",
   "metadata": {},
   "outputs": [
    {
     "name": "stdout",
     "output_type": "stream",
     "text": [
      "Accuracy of hybrid model: 80.323%\n"
     ]
    }
   ],
   "source": [
    "print('Accuracy of hybrid model: '+str(round(accuracy*100,3))+'%')"
   ]
  },
  {
   "cell_type": "code",
   "execution_count": 111,
   "id": "74fd28e2",
   "metadata": {},
   "outputs": [
    {
     "data": {
      "text/plain": [
       "<AxesSubplot:xlabel='Predicted', ylabel='Actual'>"
      ]
     },
     "execution_count": 111,
     "metadata": {},
     "output_type": "execute_result"
    },
    {
     "data": {
      "image/png": "[encoded data removed]",
      "text/plain": [
       "<Figure size 432x288 with 2 Axes>"
      ]
     },
     "metadata": {
      "needs_background": "light"
     },
     "output_type": "display_data"
    }
   ],
   "source": [
    "sn.heatmap(crosstab,annot=True,fmt='d')"
   ]
  },
  {
   "cell_type": "code",
   "execution_count": null,
   "id": "08d913a7",
   "metadata": {},
   "outputs": [],
   "source": []
  }
 ],
 "metadata": {
  "kernelspec": {
   "display_name": "Python 3 (ipykernel)",
   "language": "python",
   "name": "python3"
  },
  "language_info": {
   "codemirror_mode": {
    "name": "ipython",
    "version": 3
   },
   "file_extension": ".py",
   "mimetype": "text/x-python",
   "name": "python",
   "nbconvert_exporter": "python",
   "pygments_lexer": "ipython3",
   "version": "3.9.7"
  },
  "latex_envs": {
   "LaTeX_envs_menu_present": true,
   "autoclose": false,
   "autocomplete": true,
   "bibliofile": "biblio.bib",
   "cite_by": "apalike",
   "current_citInitial": 1,
   "eqLabelWithNumbers": true,
   "eqNumInitial": 1,
   "hotkeys": {
    "equation": "Ctrl-E",
    "itemize": "Ctrl-I"
   },
   "labels_anchors": false,
   "latex_user_defs": false,
   "report_style_numbering": false,
   "user_envs_cfg": false
  },
  "varInspector": {
   "cols": {
    "lenName": 16,
    "lenType": 16,
    "lenVar": 40
   },
   "kernels_config": {
    "python": {
     "delete_cmd_postfix": "",
     "delete_cmd_prefix": "del ",
     "library": "var_list.py",
     "varRefreshCmd": "print(var_dic_list())"
    },
    "r": {
     "delete_cmd_postfix": ") ",
     "delete_cmd_prefix": "rm(",
     "library": "var_list.r",
     "varRefreshCmd": "cat(var_dic_list()) "
    }
   },
   "types_to_exclude": [
    "module",
    "function",
    "builtin_function_or_method",
    "instance",
    "_Feature"
   ],
   "window_display": false
  }
 },
 "nbformat": 4,
 "nbformat_minor": 5
}
